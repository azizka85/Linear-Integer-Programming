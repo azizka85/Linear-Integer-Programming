{
 "cells": [
  {
   "cell_type": "markdown",
   "metadata": {},
   "source": [
    "# Примеры задач Линейного Программирования"
   ]
  },
  {
   "cell_type": "markdown",
   "metadata": {},
   "source": [
    "### Пример №1"
   ]
  },
  {
   "cell_type": "markdown",
   "metadata": {},
   "source": [
    "минимизировать: $$102x_1 + 99x_2 + 98x_3$$\n",
    "\n",
    "при условии: $$105x_1 + 3.5x_2 + 3.5x_3 \\geq 12000$$\n",
    "             $$103.5x_2 + 3.5x_3 \\geq 18000$$\n",
    "             $$103.5x_3 \\geq 20000$$\n",
    "             $$x_1, x_2, x_3 \\geq 0$$\n",
    "             \n",
    "\n",
    "            "
   ]
  },
  {
   "cell_type": "code",
   "execution_count": 9,
   "metadata": {},
   "outputs": [
    {
     "ename": "ModuleNotFoundError",
     "evalue": "No module named 'scipy'",
     "output_type": "error",
     "traceback": [
      "\u001b[1;31m---------------------------------------------------------------------------\u001b[0m",
      "\u001b[1;31mModuleNotFoundError\u001b[0m                       Traceback (most recent call last)",
      "Cell \u001b[1;32mIn[9], line 1\u001b[0m\n\u001b[1;32m----> 1\u001b[0m \u001b[38;5;28;01mfrom\u001b[39;00m \u001b[38;5;21;01mscipy\u001b[39;00m\u001b[38;5;21;01m.\u001b[39;00m\u001b[38;5;21;01moptimize\u001b[39;00m \u001b[38;5;28;01mimport\u001b[39;00m linprog\n\u001b[0;32m      3\u001b[0m c \u001b[38;5;241m=\u001b[39m [\u001b[38;5;241m102\u001b[39m, \u001b[38;5;241m99\u001b[39m, \u001b[38;5;241m98\u001b[39m]\n\u001b[0;32m      5\u001b[0m A \u001b[38;5;241m=\u001b[39m [[\u001b[38;5;241m105\u001b[39m, \u001b[38;5;241m3.5\u001b[39m, \u001b[38;5;241m3.5\u001b[39m],\n\u001b[0;32m      6\u001b[0m      [\u001b[38;5;241m103.5\u001b[39m, \u001b[38;5;241m3.5\u001b[39m, \u001b[38;5;241m0\u001b[39m],\n\u001b[0;32m      7\u001b[0m      [\u001b[38;5;241m103.5\u001b[39m, \u001b[38;5;241m0\u001b[39m, \u001b[38;5;241m3.5\u001b[39m]]\n",
      "\u001b[1;31mModuleNotFoundError\u001b[0m: No module named 'scipy'"
     ]
    }
   ],
   "source": [
    "from scipy.optimize import linprog\n",
    "\n",
    "c = [102, 99, 98]\n",
    "\n",
    "A = [[105, 3.5, 3.5],\n",
    "     [103.5, 3.5, 0],\n",
    "     [103.5, 0, 3.5]]\n",
    "\n",
    "\n",
    "b = [12000, 18000, 20000]\n",
    "\n",
    "x_bounds = [(0, None), (0, None), (0, None)]\n",
    "\n",
    "\n",
    "linprog(c, A, b, x_bounds)\n"
   ]
  },
  {
   "cell_type": "markdown",
   "metadata": {},
   "source": [
    "### Пример №2"
   ]
  },
  {
   "cell_type": "markdown",
   "metadata": {},
   "source": [
    "минимизировать: $$102x_1 + 99x_2 + 98x_3$$\n",
    "\n",
    "при условии: $$105x_1 + 3.5x_2 + 3.5x_3 \\geq 12000$$\n",
    "             $$103.5x_2 + 3.5x_3 \\geq 18000$$\n",
    "             $$103.5x_3 \\geq 20000$$\n",
    "             $$x_1, x_2, x_3 \\geq 0$$\n",
    "\n",
    "            "
   ]
  },
  {
   "cell_type": "code",
   "execution_count": 5,
   "metadata": {},
   "outputs": [
    {
     "ename": "NameError",
     "evalue": "name 'linprog' is not defined",
     "output_type": "error",
     "traceback": [
      "\u001b[1;31m---------------------------------------------------------------------------\u001b[0m",
      "\u001b[1;31mNameError\u001b[0m                                 Traceback (most recent call last)",
      "Cell \u001b[1;32mIn[5], line 16\u001b[0m\n\u001b[0;32m      8\u001b[0m b \u001b[38;5;241m=\u001b[39m [\u001b[38;5;241m12000\u001b[39m]\n\u001b[0;32m     10\u001b[0m x_bounds \u001b[38;5;241m=\u001b[39m [ \n\u001b[0;32m     11\u001b[0m     [\u001b[38;5;241m0\u001b[39m, \u001b[38;5;28;01mNone\u001b[39;00m],\n\u001b[0;32m     12\u001b[0m     [\u001b[38;5;241m0\u001b[39m, \u001b[38;5;28;01mNone\u001b[39;00m],\n\u001b[0;32m     13\u001b[0m     [\u001b[38;5;241m0\u001b[39m, \u001b[38;5;28;01mNone\u001b[39;00m]\n\u001b[0;32m     14\u001b[0m ]\n\u001b[1;32m---> 16\u001b[0m \u001b[43mlinprog\u001b[49m(c, A, b, x_bounds)\n",
      "\u001b[1;31mNameError\u001b[0m: name 'linprog' is not defined"
     ]
    }
   ],
   "source": [
    "c = [102, 99, 98]\n",
    "\n",
    "A = [\n",
    "    [105, 3.5, 3.5],\n",
    "\n",
    "]\n",
    "\n",
    "b = [12000]\n",
    "\n",
    "x_bounds = [ \n",
    "    [0, None],\n",
    "    [0, None],\n",
    "    [0, None]\n",
    "]\n",
    "\n",
    "linprog(c, A, b, x_bounds)"
   ]
  },
  {
   "cell_type": "markdown",
   "metadata": {},
   "source": [
    "### Пример №3"
   ]
  },
  {
   "cell_type": "markdown",
   "metadata": {},
   "source": [
    "минимизировать: $$102x_1 + 99x_2 + 98x_3$$\n",
    "\n",
    "при условии: $$105x_1 + 3.5x_2 + 3.5x_3 \\geq 12000$$\n",
    "             $$103.5x_2 + 3.5x_3 \\geq 18000$$\n",
    "             $$103.5x_3 \\geq 20000$$\n",
    "             $$x_1, x_2, x_3 \\geq 0$$\n",
    "\n",
    "            "
   ]
  },
  {
   "cell_type": "code",
   "execution_count": 6,
   "metadata": {},
   "outputs": [
    {
     "name": "stderr",
     "output_type": "stream",
     "text": [
      "<>:5: SyntaxWarning: list indices must be integers or slices, not tuple; perhaps you missed a comma?\n",
      "<>:5: SyntaxWarning: list indices must be integers or slices, not tuple; perhaps you missed a comma?\n",
      "C:\\Users\\Lenovo & Co\\AppData\\Local\\Temp\\ipykernel_22840\\1560735685.py:5: SyntaxWarning: list indices must be integers or slices, not tuple; perhaps you missed a comma?\n",
      "  [103.5, 3.5, 0]\n"
     ]
    },
    {
     "ename": "TypeError",
     "evalue": "list indices must be integers or slices, not tuple",
     "output_type": "error",
     "traceback": [
      "\u001b[1;31m---------------------------------------------------------------------------\u001b[0m",
      "\u001b[1;31mTypeError\u001b[0m                                 Traceback (most recent call last)",
      "Cell \u001b[1;32mIn[6], line 5\u001b[0m\n\u001b[0;32m      1\u001b[0m c \u001b[38;5;241m=\u001b[39m [\u001b[38;5;241m102\u001b[39m, \u001b[38;5;241m99\u001b[39m, \u001b[38;5;241m98\u001b[39m]\n\u001b[0;32m      3\u001b[0m A \u001b[38;5;241m=\u001b[39m [\n\u001b[0;32m      4\u001b[0m     [\u001b[38;5;241m105\u001b[39m, \u001b[38;5;241m3.5\u001b[39m, \u001b[38;5;241m3.5\u001b[39m],\n\u001b[1;32m----> 5\u001b[0m     \u001b[43m[\u001b[49m\u001b[38;5;241;43m103.5\u001b[39;49m\u001b[43m,\u001b[49m\u001b[43m \u001b[49m\u001b[38;5;241;43m3.5\u001b[39;49m\u001b[43m,\u001b[49m\u001b[43m \u001b[49m\u001b[38;5;241;43m0\u001b[39;49m\u001b[43m]\u001b[49m\n\u001b[0;32m      6\u001b[0m \u001b[43m    \u001b[49m\u001b[43m[\u001b[49m\u001b[38;5;241;43m0\u001b[39;49m\u001b[43m,\u001b[49m\u001b[43m \u001b[49m\u001b[38;5;241;43m0\u001b[39;49m\u001b[43m,\u001b[49m\u001b[43m \u001b[49m\u001b[38;5;241;43m103.5\u001b[39;49m\u001b[43m]\u001b[49m\n\u001b[0;32m      7\u001b[0m ]\n\u001b[0;32m      9\u001b[0m b \u001b[38;5;241m=\u001b[39m [\u001b[38;5;241m12000\u001b[39m, \u001b[38;5;241m18000\u001b[39m, \u001b[38;5;241m20000\u001b[39m]\n\u001b[0;32m     11\u001b[0m x_bounds \u001b[38;5;241m=\u001b[39m [ \n\u001b[0;32m     12\u001b[0m     [\u001b[38;5;241m0\u001b[39m, \u001b[38;5;28;01mNone\u001b[39;00m],\n\u001b[0;32m     13\u001b[0m     [\u001b[38;5;241m0\u001b[39m, \u001b[38;5;28;01mNone\u001b[39;00m],\n\u001b[0;32m     14\u001b[0m     [\u001b[38;5;241m0\u001b[39m, \u001b[38;5;28;01mNone\u001b[39;00m]\n\u001b[0;32m     15\u001b[0m     \n\u001b[0;32m     16\u001b[0m ]\n",
      "\u001b[1;31mTypeError\u001b[0m: list indices must be integers or slices, not tuple"
     ]
    }
   ],
   "source": [
    "c = [102, 99, 98]\n",
    "\n",
    "A = [\n",
    "    [105, 3.5, 3.5],\n",
    "    [103.5, 3.5, 0]\n",
    "    [0, 0, 103.5]\n",
    "]\n",
    "\n",
    "b = [12000, 18000, 20000]\n",
    "\n",
    "x_bounds = [ \n",
    "    [0, None],\n",
    "    [0, None],\n",
    "    [0, None]\n",
    "    \n",
    "]\n",
    "\n",
    "linprog(c, A, b, x_bounds=x_bounds)"
   ]
  }
 ],
 "metadata": {
  "kernelspec": {
   "display_name": "Python 3 (ipykernel)",
   "language": "python",
   "name": "python3"
  },
  "language_info": {
   "codemirror_mode": {
    "name": "ipython",
    "version": 3
   },
   "file_extension": ".py",
   "mimetype": "text/x-python",
   "name": "python",
   "nbconvert_exporter": "python",
   "pygments_lexer": "ipython3",
   "version": "3.11.7"
  }
 },
 "nbformat": 4,
 "nbformat_minor": 2
}
