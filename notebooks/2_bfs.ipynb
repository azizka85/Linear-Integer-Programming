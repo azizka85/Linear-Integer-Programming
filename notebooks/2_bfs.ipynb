{
 "cells": [
  {
   "cell_type": "markdown",
   "metadata": {},
   "source": [
    "# Нахождение базовых допустимых решений"
   ]
  },
  {
   "cell_type": "code",
   "execution_count": 3,
   "metadata": {},
   "outputs": [],
   "source": [
    "import sys\n",
    "\n",
    "sys.path.append('..')"
   ]
  },
  {
   "cell_type": "markdown",
   "metadata": {},
   "source": [
    "### Пример №1\n",
    "\n",
    "минимизировать: $$-x_1 - x_2$$\n",
    "\n",
    "при условии: $$0 \\leq x_1 \\leq 1$$\n",
    "             $$0 \\leq x_2 \\leq 1$$\n",
    "\n",
    "<center>\n",
    "    <img src=\"../images/feasable_set.png\" width=\"260\">\n",
    "</center>\n",
    "\n",
    "<br/>\n",
    "\n",
    "<center>\n",
    "    <h3>Стандартная форма</h3>\n",
    "</center>\n",
    "\n",
    "минимизировать: $$-x_1 - x_2$$\n",
    "\n",
    "при условии: $$x_1 + x_3 = 1$$\n",
    "             $$x_2 + x_4 = 1$$\n",
    "             $$x_1, x_2, x_3, x_4 \\geq 0$$\n",
    "\n",
    "<br/>             \n",
    "\n",
    "$$\n",
    "    A = \\begin{pmatrix}        \n",
    "        1 & 0 & 1 & 0 \\\\\n",
    "        0 & 1 & 0 & 1 \\\\\n",
    "    \\end{pmatrix},\n",
    "\n",
    "    b = \\begin{pmatrix} \n",
    "        1 \\\\\n",
    "        1 \\\\\n",
    "    \\end{pmatrix}\n",
    "$$\n",
    "\n",
    "Существует $C_{4}^2 = 6$ базовых допустимых решений"
   ]
  },
  {
   "cell_type": "code",
   "execution_count": 4,
   "metadata": {},
   "outputs": [
    {
     "name": "stdout",
     "output_type": "stream",
     "text": [
      "[0, 1]: x = [1. 1.] является базовым допустим решением\n",
      "---\n",
      "\n",
      "[0, 2]:\n",
      "Матрица B = [[1. 0.]\n",
      " [1. 0.]] вырождена\n",
      "---\n",
      "\n",
      "[0, 3]: x = [1. 1.] является базовым допустим решением\n",
      "---\n",
      "\n",
      "[1, 2]: x = [1. 1.] является базовым допустим решением\n",
      "---\n",
      "\n",
      "[1, 3]:\n",
      "Матрица B = [[0. 1.]\n",
      " [0. 1.]] вырождена\n",
      "---\n",
      "\n",
      "[2, 3]: x = [1. 1.] является базовым допустим решением\n",
      "---\n",
      "\n"
     ]
    },
    {
     "data": {
      "text/plain": [
       "[array([1., 1.]), array([1., 1.]), array([1., 1.]), array([1., 1.])]"
      ]
     },
     "execution_count": 4,
     "metadata": {},
     "output_type": "execute_result"
    }
   ],
   "source": [
    "from modules.feasable_set import generate_feasable_set\n",
    "\n",
    "A = [\n",
    "    [1., 0.],\n",
    "    [0., 1.],\n",
    "    [1., 0.],\n",
    "    [0., 1.]\n",
    "]\n",
    "\n",
    "b = [1., 1.]\n",
    "\n",
    "bfs = generate_feasable_set(A, b)\n",
    "\n",
    "bfs"
   ]
  },
  {
   "cell_type": "code",
   "execution_count": 5,
   "metadata": {},
   "outputs": [
    {
     "name": "stdout",
     "output_type": "stream",
     "text": [
      "Минимальное значение: -2.0\n"
     ]
    },
    {
     "data": {
      "text/plain": [
       "array([1., 1.])"
      ]
     },
     "execution_count": 5,
     "metadata": {},
     "output_type": "execute_result"
    }
   ],
   "source": [
    "from numpy import dot, array\n",
    "\n",
    "c = array([-1., -1.])\n",
    "\n",
    "min_val = 1\n",
    "x_min = None\n",
    "\n",
    "for x in bfs:\n",
    "    val = dot(c, x)\n",
    "\n",
    "    if val < min_val:\n",
    "        x_min = x\n",
    "        min_val = val\n",
    "\n",
    "print(f'Минимальное значение: {min_val}')\n",
    "\n",
    "x_min"
   ]
  },
  {
   "cell_type": "code",
   "execution_count": 6,
   "metadata": {},
   "outputs": [
    {
     "data": {
      "text/plain": [
       "        message: Optimization terminated successfully. (HiGHS Status 7: Optimal)\n",
       "        success: True\n",
       "         status: 0\n",
       "            fun: -2.0\n",
       "              x: [ 1.000e+00  1.000e+00]\n",
       "            nit: 0\n",
       "          lower:  residual: [ 1.000e+00  1.000e+00]\n",
       "                 marginals: [ 0.000e+00  0.000e+00]\n",
       "          upper:  residual: [ 0.000e+00  0.000e+00]\n",
       "                 marginals: [-1.000e+00 -1.000e+00]\n",
       "          eqlin:  residual: []\n",
       "                 marginals: []\n",
       "        ineqlin:  residual: []\n",
       "                 marginals: []\n",
       " mip_node_count: 0\n",
       " mip_dual_bound: 0.0\n",
       "        mip_gap: 0.0"
      ]
     },
     "execution_count": 6,
     "metadata": {},
     "output_type": "execute_result"
    }
   ],
   "source": [
    "from scipy.optimize import linprog\n",
    "\n",
    "c = [-1., -1.]\n",
    "\n",
    "bounds = [\n",
    "    [0., 1.],\n",
    "    [0., 1.]\n",
    "]\n",
    "\n",
    "linprog(c, bounds=bounds)"
   ]
  },
  {
   "cell_type": "markdown",
   "metadata": {},
   "source": [
    "### Пример №2:\n",
    "\n",
    "минимизировать: $$-x_1$$\n",
    "\n",
    "при условии: $$x_1 + x_2 \\leq 1$$\n",
    "             $$x_1 \\leq 1$$\n",
    "             $$x_2 \\leq 1$$\n",
    "             $$x_1, x_2 \\geq 0$$\n",
    "\n",
    "<center>\n",
    "    <img src=\"../images/feasable_set_2.png\" width=\"260\">\n",
    "</center>\n",
    "\n",
    "<br/>\n",
    "\n",
    "<center>\n",
    "    <h3>Стандартная форма</h3>\n",
    "</center>\n",
    "\n",
    "минимизировать: $$-x_1$$\n",
    "\n",
    "при условии: $$x_1 + x_2 + x_3 = 1$$\n",
    "             $$x_1 + x_4 = 1$$\n",
    "             $$x_2 + x_5 = 1$$\n",
    "             $$x_1, x_2, x_3, x_4, x_5 \\geq 0$$\n",
    "\n",
    "<br/>             \n",
    "\n",
    "$$\n",
    "    A = \\begin{pmatrix}        \n",
    "        1 & 1 & 1 & 0 & 0 \\\\\n",
    "        1 & 0 & 0 & 1 & 0 \\\\\n",
    "        0 & 1 & 0 & 0 & 1 \\\\\n",
    "    \\end{pmatrix},\n",
    "\n",
    "    b = \\begin{pmatrix} \n",
    "        1 \\\\\n",
    "        1 \\\\\n",
    "        1 \\\\\n",
    "    \\end{pmatrix}\n",
    "$$\n",
    "\n",
    "Существует $C_{5}^3 = 10$ базовых допустимых решений             "
   ]
  },
  {
   "cell_type": "code",
   "execution_count": 7,
   "metadata": {},
   "outputs": [
    {
     "name": "stdout",
     "output_type": "stream",
     "text": [
      "[0, 1, 2]: x = [ 1. -0. -0.] является базовым допустим решением\n",
      "---\n",
      "\n",
      "[0, 1, 3]: x = [0. 1. 1.] является базовым допустим решением\n",
      "---\n",
      "\n",
      "[0, 1, 4]: x = [0. 1. 1.] является базовым допустим решением\n",
      "---\n",
      "\n",
      "[0, 2, 3]:\n",
      "Матрица B = [[1. 1. 0.]\n",
      " [1. 0. 0.]\n",
      " [0. 1. 0.]] вырождена\n",
      "---\n",
      "\n",
      "[0, 2, 4]: x = [ 1. -0.  1.] является базовым допустим решением\n",
      "---\n",
      "\n",
      "[0, 3, 4]: x = [0. 1. 1.] является базовым допустим решением\n",
      "---\n",
      "\n",
      "[1, 2, 3]: x = [ 1.  1. -0.] является базовым допустим решением\n",
      "---\n",
      "\n",
      "[1, 2, 4]:\n",
      "Матрица B = [[1. 0. 1.]\n",
      " [1. 0. 0.]\n",
      " [0. 0. 1.]] вырождена\n",
      "---\n",
      "\n",
      "[1, 3, 4]: x = [0. 1. 1.] является базовым допустим решением\n",
      "---\n",
      "\n",
      "[2, 3, 4]: x = [1. 1. 1.] является базовым допустим решением\n",
      "---\n",
      "\n"
     ]
    },
    {
     "data": {
      "text/plain": [
       "[array([ 1., -0., -0.]),\n",
       " array([0., 1., 1.]),\n",
       " array([0., 1., 1.]),\n",
       " array([ 1., -0.,  1.]),\n",
       " array([0., 1., 1.]),\n",
       " array([ 1.,  1., -0.]),\n",
       " array([0., 1., 1.]),\n",
       " array([1., 1., 1.])]"
      ]
     },
     "execution_count": 7,
     "metadata": {},
     "output_type": "execute_result"
    }
   ],
   "source": [
    "A = [\n",
    "    [1., 1., 0.],\n",
    "    [1., 0., 1.],\n",
    "    [1., 0., 0.],\n",
    "    [0., 1., 0.],\n",
    "    [0., 0., 1.]\n",
    "]\n",
    "\n",
    "b = [1., 1., 1.]\n",
    "\n",
    "bfs = generate_feasable_set(A, b)\n",
    "\n",
    "bfs"
   ]
  },
  {
   "cell_type": "code",
   "execution_count": 8,
   "metadata": {},
   "outputs": [
    {
     "name": "stdout",
     "output_type": "stream",
     "text": [
      "Минимальное значение: -1.0\n"
     ]
    },
    {
     "data": {
      "text/plain": [
       "array([ 1., -0., -0.])"
      ]
     },
     "execution_count": 8,
     "metadata": {},
     "output_type": "execute_result"
    }
   ],
   "source": [
    "c = array([-1., 0., 0.])\n",
    "\n",
    "min_val = 1\n",
    "x_min = None\n",
    "\n",
    "for x in bfs:\n",
    "    val = dot(c, x)\n",
    "\n",
    "    if val < min_val:\n",
    "        x_min = x\n",
    "        min_val = val\n",
    "\n",
    "print(f'Минимальное значение: {min_val}')\n",
    "\n",
    "x_min"
   ]
  },
  {
   "cell_type": "code",
   "execution_count": 9,
   "metadata": {},
   "outputs": [
    {
     "data": {
      "text/plain": [
       "        message: Optimization terminated successfully. (HiGHS Status 7: Optimal)\n",
       "        success: True\n",
       "         status: 0\n",
       "            fun: -1.0\n",
       "              x: [ 1.000e+00  0.000e+00]\n",
       "            nit: 0\n",
       "          lower:  residual: [ 1.000e+00  0.000e+00]\n",
       "                 marginals: [ 0.000e+00  0.000e+00]\n",
       "          upper:  residual: [ 0.000e+00  1.000e+00]\n",
       "                 marginals: [-1.000e+00  0.000e+00]\n",
       "          eqlin:  residual: []\n",
       "                 marginals: []\n",
       "        ineqlin:  residual: [ 0.000e+00]\n",
       "                 marginals: [-0.000e+00]\n",
       " mip_node_count: 0\n",
       " mip_dual_bound: 0.0\n",
       "        mip_gap: 0.0"
      ]
     },
     "execution_count": 9,
     "metadata": {},
     "output_type": "execute_result"
    }
   ],
   "source": [
    "c = [-1., 0.]\n",
    "\n",
    "A = [\n",
    "    [1., 1.]\n",
    "]\n",
    "\n",
    "b = [1.]\n",
    "\n",
    "bounds = [\n",
    "    [0., 1.],\n",
    "    [0., 1.]\n",
    "]\n",
    "\n",
    "linprog(c, A, b, bounds=bounds)"
   ]
  }
 ],
 "metadata": {
  "kernelspec": {
   "display_name": ".venv",
   "language": "python",
   "name": "python3"
  },
  "language_info": {
   "codemirror_mode": {
    "name": "ipython",
    "version": 3
   },
   "file_extension": ".py",
   "mimetype": "text/x-python",
   "name": "python",
   "nbconvert_exporter": "python",
   "pygments_lexer": "ipython3",
   "version": "3.11.7"
  }
 },
 "nbformat": 4,
 "nbformat_minor": 2
}
