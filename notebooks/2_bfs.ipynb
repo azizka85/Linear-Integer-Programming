{
 "cells": [
  {
   "cell_type": "code",
   "execution_count": 80,
   "metadata": {},
   "outputs": [],
   "source": [
    "import sys\n",
    "\n",
    "sys.path.append('..')"
   ]
  },
  {
   "cell_type": "markdown",
   "metadata": {},
   "source": [
    "### Пример №2:\n",
    "\n",
    "минимизировать: $$-x_1-2x_2$$\n",
    "\n",
    "при условии: $$x_1 - 2x_2 \\geq 2$$\n",
    "             $$x_1 + x_2 \\leq 4$$\n",
    "             $$x_1 \\geq 0$$\n",
    "             $$ x_2 \\geq 0$$\n",
    "\n",
    "\n",
    "<br/>\n",
    "\n",
    "<center>\n",
    "    <h3>Стандартная форма</h3>\n",
    "</center>\n",
    "\n",
    "минимизировать: $$-x_1-2x_2$$\n",
    "\n",
    "при условии: $$x_1 + x_2 - x_3 = 2$$\n",
    "             $$x_1 + x_2 + x_4 = 4$$\n",
    "             $$x_1 - x_5 = 0$$\n",
    "             $$x_2 - x_6 = 0$$\n",
    "             $$x_1, x_2, x_3, x_4, x_5 x_6 \\geq 0$$\n",
    "\n",
    "<br/>             \n",
    "\n",
    "$$\n",
    "    A = \\begin{pmatrix}        \n",
    "        1 & 1 & 1 & 0 & 0 & 0 \\\\\n",
    "        1 & 1 & 0 & 1 & 0 & 0 \\\\\n",
    "        1 & 0 & 0 & 0 & 1 & 0 \\\\\n",
    "    \\end{pmatrix},\n",
    "\n",
    "    b = \\begin{pmatrix} \n",
    "        2 \\\\\n",
    "        4 \\\\\n",
    "        0 \\\\\n",
    "    \\end{pmatrix}\n",
    "$$\n",
    "             "
   ]
  },
  {
   "cell_type": "code",
   "execution_count": 81,
   "metadata": {},
   "outputs": [
    {
     "name": "stdout",
     "output_type": "stream",
     "text": [
      "[0, 1, 2]: k = 2, x[k] = -2.0 отрицательна\n",
      "---\n",
      "\n",
      "[0, 1, 3]: x = [0. 2. 2.] является базовым допустим решением\n",
      "---\n",
      "\n",
      "[0, 1, 4]:\n",
      "Матрица B = [[1. 1. 1.]\n",
      " [1. 1. 0.]\n",
      " [0. 0. 1.]] вырождена\n",
      "---\n",
      "\n",
      "[0, 1, 5]:\n",
      "Матрица B = [[1. 1. 1.]\n",
      " [1. 1. 0.]\n",
      " [0. 0. 0.]] вырождена\n",
      "---\n",
      "\n",
      "[0, 2, 3]: x = [0. 2. 4.] является базовым допустим решением\n",
      "---\n",
      "\n",
      "[0, 2, 4]: k = 1, x[k] = -2.0 отрицательна\n",
      "---\n",
      "\n",
      "[0, 2, 5]:\n",
      "Матрица B = [[1. 1. 1.]\n",
      " [1. 0. 0.]\n",
      " [0. 0. 0.]] вырождена\n",
      "---\n",
      "\n",
      "[0, 3, 4]: k = 2, x[k] = -2.0 отрицательна\n",
      "---\n",
      "\n",
      "[0, 3, 5]:\n",
      "Матрица B = [[1. 1. 1.]\n",
      " [0. 1. 0.]\n",
      " [0. 0. 0.]] вырождена\n",
      "---\n",
      "\n",
      "[0, 4, 5]:\n",
      "Матрица B = [[1. 1. 1.]\n",
      " [0. 0. 1.]\n",
      " [0. 0. 0.]] вырождена\n",
      "---\n",
      "\n",
      "[1, 2, 3]:\n",
      "Матрица B = [[1. 1. 0.]\n",
      " [1. 0. 0.]\n",
      " [0. 1. 0.]] вырождена\n",
      "---\n",
      "\n",
      "[1, 2, 4]: k = 1, x[k] = -2.0 отрицательна\n",
      "---\n",
      "\n",
      "[1, 2, 5]:\n",
      "Матрица B = [[1. 1. 0.]\n",
      " [1. 0. 0.]\n",
      " [0. 0. 0.]] вырождена\n",
      "---\n",
      "\n",
      "[1, 3, 4]: x = [2. 2. 0.] является базовым допустим решением\n",
      "---\n",
      "\n",
      "[1, 3, 5]:\n",
      "Матрица B = [[1. 1. 0.]\n",
      " [0. 1. 0.]\n",
      " [0. 0. 0.]] вырождена\n",
      "---\n",
      "\n",
      "[1, 4, 5]:\n",
      "Матрица B = [[1. 1. 0.]\n",
      " [0. 0. 1.]\n",
      " [0. 0. 0.]] вырождена\n",
      "---\n",
      "\n",
      "[2, 3, 4]: x = [2. 4. 0.] является базовым допустим решением\n",
      "---\n",
      "\n",
      "[2, 3, 5]:\n",
      "Матрица B = [[1. 0. 0.]\n",
      " [0. 1. 0.]\n",
      " [0. 0. 0.]] вырождена\n",
      "---\n",
      "\n",
      "[2, 4, 5]:\n",
      "Матрица B = [[1. 0. 0.]\n",
      " [0. 0. 1.]\n",
      " [0. 0. 0.]] вырождена\n",
      "---\n",
      "\n",
      "[3, 4, 5]:\n",
      "Матрица B = [[0. 1. 0.]\n",
      " [0. 0. 1.]\n",
      " [0. 0. 0.]] вырождена\n",
      "---\n",
      "\n"
     ]
    },
    {
     "data": {
      "text/plain": [
       "[array([0., 2., 0., 2., 0., 0.]),\n",
       " array([0., 0., 2., 4., 0., 0.]),\n",
       " array([0., 2., 0., 2., 0., 0.]),\n",
       " array([0., 0., 2., 4., 0., 0.])]"
      ]
     },
     "execution_count": 81,
     "metadata": {},
     "output_type": "execute_result"
    }
   ],
   "source": [
    "from modules.feasable_set import generate_feasable_set\n",
    "\n",
    "A = [\n",
    "    [1., 1., 1.],\n",
    "    [1., 1., 0.],\n",
    "    [1., 0., 0.],\n",
    "    [0., 1., 0.],\n",
    "    [0., 0., 1.],\n",
    "    [0., 0., 0.]\n",
    "]\n",
    "\n",
    "b = [2., 4., 0.]\n",
    "\n",
    "bfs = generate_feasable_set(A, b)\n",
    "\n",
    "bfs"
   ]
  },
  {
   "cell_type": "code",
   "execution_count": 82,
   "metadata": {},
   "outputs": [
    {
     "name": "stdout",
     "output_type": "stream",
     "text": [
      "Минимальное значение: 1\n"
     ]
    }
   ],
   "source": [
    "from numpy import dot, array\n",
    "\n",
    "c = array([0., 2., 0., 2., 0., 0.])\n",
    "\n",
    "min_val = 1\n",
    "x_min = None\n",
    "\n",
    "for x in bfs:\n",
    "    val = dot(c, x)\n",
    "\n",
    "    if val < min_val:\n",
    "        x_min = x\n",
    "        min_val = val\n",
    "\n",
    "print(f'Минимальное значение: {min_val}')\n",
    "\n",
    "x_min"
   ]
  },
  {
   "cell_type": "code",
   "execution_count": 83,
   "metadata": {},
   "outputs": [
    {
     "data": {
      "text/plain": [
       "       message: The problem is infeasible. (HiGHS Status 8: model_status is Infeasible; primal_status is At lower/fixed bound)\n",
       "       success: False\n",
       "        status: 2\n",
       "           fun: None\n",
       "             x: None\n",
       "           nit: 0\n",
       "         lower:  residual: None\n",
       "                marginals: None\n",
       "         upper:  residual: None\n",
       "                marginals: None\n",
       "         eqlin:  residual: None\n",
       "                marginals: None\n",
       "       ineqlin:  residual: None\n",
       "                marginals: None"
      ]
     },
     "execution_count": 83,
     "metadata": {},
     "output_type": "execute_result"
    }
   ],
   "source": [
    "from scipy.optimize import linprog\n",
    "\n",
    "c = [-1., -2.]\n",
    "\n",
    "bounds = [\n",
    "    [1., 0.],\n",
    "    [1., 0.]\n",
    "]\n",
    "\n",
    "linprog(c, bounds=bounds)"
   ]
  }
 ],
 "metadata": {
  "kernelspec": {
   "display_name": ".venv",
   "language": "python",
   "name": "python3"
  },
  "language_info": {
   "codemirror_mode": {
    "name": "ipython",
    "version": 3
   },
   "file_extension": ".py",
   "mimetype": "text/x-python",
   "name": "python",
   "nbconvert_exporter": "python",
   "pygments_lexer": "ipython3",
   "version": "3.11.7"
  }
 },
 "nbformat": 4,
 "nbformat_minor": 2
}
