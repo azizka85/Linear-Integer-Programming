{
 "cells": [
  {
   "cell_type": "markdown",
   "metadata": {},
   "source": [
    "# Примеры задач Линейного Программирования"
   ]
  },
  {
   "cell_type": "markdown",
   "metadata": {},
   "source": [
    "### Пример №1"
   ]
  },
  {
   "cell_type": "markdown",
   "metadata": {},
   "source": [
    "минимизировать: $$-3x_1 - 5x_2 - 3x_3$$\n",
    "\n",
    "при условии: $$x_1 - x_2 + x_3 \\leq 15$$\n",
    "             $$2x_1 + 3x_2 + 6x_3 \\leq 30$$\n",
    "             $$2x_1 + x_2 = 30$$\n",
    "             $$0 \\leq x_1 \\leq 15$$\n",
    "             $$0 \\leq x_2 \\leq 10$$\n",
    "             $$0 \\leq x_3 \\leq 5$$"
   ]
  },
  {
   "cell_type": "code",
   "execution_count": 5,
   "metadata": {},
   "outputs": [
    {
     "data": {
      "text/plain": [
       "        message: Optimization terminated successfully. (HiGHS Status 7: Optimal)\n",
       "        success: True\n",
       "         status: 0\n",
       "            fun: -44.99999999999999\n",
       "              x: [ 1.500e+01 -0.000e+00  0.000e+00]\n",
       "            nit: 0\n",
       "          lower:  residual: [ 1.500e+01 -0.000e+00  0.000e+00]\n",
       "                 marginals: [ 0.000e+00  0.000e+00  7.500e+00]\n",
       "          upper:  residual: [ 1.776e-15  1.000e+01  5.000e+00]\n",
       "                 marginals: [ 0.000e+00  0.000e+00  0.000e+00]\n",
       "          eqlin:  residual: [ 0.000e+00]\n",
       "                 marginals: [ 2.500e-01]\n",
       "        ineqlin:  residual: [ 1.776e-15  0.000e+00]\n",
       "                 marginals: [-0.000e+00 -1.750e+00]\n",
       " mip_node_count: 0\n",
       " mip_dual_bound: 0.0\n",
       "        mip_gap: 0.0"
      ]
     },
     "execution_count": 5,
     "metadata": {},
     "output_type": "execute_result"
    }
   ],
   "source": [
    "from scipy.optimize import linprog\n",
    "\n",
    "c = [-3, -5, -3]\n",
    "\n",
    "A = [\n",
    "    [1, -1, 1],\n",
    "    [2, 3, 6]\n",
    "]\n",
    "\n",
    "b = [15, 30]\n",
    "\n",
    "Aeq = [[2, 1, 0]]\n",
    "\n",
    "beq = [30]\n",
    "\n",
    "bounds = [\n",
    "    [0, 15],\n",
    "    [0, 10],\n",
    "    [0, 5]\n",
    "]\n",
    "\n",
    "linprog(c, A, b, Aeq, beq, bounds)"
   ]
  },
  {
   "cell_type": "markdown",
   "metadata": {},
   "source": [
    "### Пример №2"
   ]
  },
  {
   "cell_type": "markdown",
   "metadata": {},
   "source": [
    "минимизировать: $$-3x_1 - 5x_2 - 3x_3$$\n",
    "\n",
    "при условии: $$x_1 - x_2 + x_3 \\leq 15$$\n",
    "             $$2x_1 + 3x_2 + 6x_3 \\leq 30$$\n",
    "             $$0 \\leq x_1$$\n",
    "             $$0 \\leq x_2$$\n",
    "             $$0 \\leq x_3$$"
   ]
  },
  {
   "cell_type": "code",
   "execution_count": 6,
   "metadata": {},
   "outputs": [
    {
     "data": {
      "text/plain": [
       "        message: Optimization terminated successfully. (HiGHS Status 7: Optimal)\n",
       "        success: True\n",
       "         status: 0\n",
       "            fun: -50.0\n",
       "              x: [ 0.000e+00  1.000e+01  0.000e+00]\n",
       "            nit: 0\n",
       "          lower:  residual: [ 0.000e+00  1.000e+01  0.000e+00]\n",
       "                 marginals: [ 3.333e-01  0.000e+00  7.000e+00]\n",
       "          upper:  residual: [       inf        inf        inf]\n",
       "                 marginals: [ 0.000e+00  0.000e+00  0.000e+00]\n",
       "          eqlin:  residual: []\n",
       "                 marginals: []\n",
       "        ineqlin:  residual: [ 2.500e+01  0.000e+00]\n",
       "                 marginals: [-0.000e+00 -1.667e+00]\n",
       " mip_node_count: 0\n",
       " mip_dual_bound: 0.0\n",
       "        mip_gap: 0.0"
      ]
     },
     "execution_count": 6,
     "metadata": {},
     "output_type": "execute_result"
    }
   ],
   "source": [
    "c = [-3, -5, -3]\n",
    "\n",
    "A = [\n",
    "    [1, -1, 1],\n",
    "    [2, 3, 6]\n",
    "]\n",
    "\n",
    "b = [15, 30]\n",
    "\n",
    "bounds = [\n",
    "    [0, None],\n",
    "    [0, None],\n",
    "    [0, None]\n",
    "]\n",
    "\n",
    "linprog(c, A, b, bounds=bounds)"
   ]
  },
  {
   "cell_type": "markdown",
   "metadata": {},
   "source": [
    "### Пример №3"
   ]
  },
  {
   "cell_type": "markdown",
   "metadata": {},
   "source": [
    "минимизировать: $$-3x_1 - 5x_2 - 3x_3$$\n",
    "\n",
    "при условии: $$x_1 - x_2 + x_3 \\leq 15$$\n",
    "             $$2x_1 + 3x_2 + 6x_3 \\leq 30$$\n",
    "             $$0 \\leq x_1 \\leq 15$$\n",
    "             $$0 \\leq x_2$$\n",
    "             $$0 \\leq x_3 \\leq 20$$"
   ]
  },
  {
   "cell_type": "code",
   "execution_count": 7,
   "metadata": {},
   "outputs": [
    {
     "data": {
      "text/plain": [
       "        message: Optimization terminated successfully. (HiGHS Status 7: Optimal)\n",
       "        success: True\n",
       "         status: 0\n",
       "            fun: -50.0\n",
       "              x: [ 0.000e+00  1.000e+01  0.000e+00]\n",
       "            nit: 0\n",
       "          lower:  residual: [ 0.000e+00  1.000e+01  0.000e+00]\n",
       "                 marginals: [ 3.333e-01  0.000e+00  7.000e+00]\n",
       "          upper:  residual: [ 1.500e+01        inf  2.000e+01]\n",
       "                 marginals: [ 0.000e+00  0.000e+00  0.000e+00]\n",
       "          eqlin:  residual: []\n",
       "                 marginals: []\n",
       "        ineqlin:  residual: [ 2.500e+01  0.000e+00]\n",
       "                 marginals: [-0.000e+00 -1.667e+00]\n",
       " mip_node_count: 0\n",
       " mip_dual_bound: 0.0\n",
       "        mip_gap: 0.0"
      ]
     },
     "execution_count": 7,
     "metadata": {},
     "output_type": "execute_result"
    }
   ],
   "source": [
    "c = [-3, -5, -3]\n",
    "\n",
    "A = [\n",
    "    [1, -1, 1],\n",
    "    [2, 3, 6]\n",
    "]\n",
    "\n",
    "b = [15, 30]\n",
    "\n",
    "bounds = [\n",
    "    [0, 15],\n",
    "    [0, None],\n",
    "    [0, 20]\n",
    "]\n",
    "\n",
    "linprog(c, A, b, bounds=bounds)"
   ]
  }
 ],
 "metadata": {
  "kernelspec": {
   "display_name": ".venv",
   "language": "python",
   "name": "python3"
  },
  "language_info": {
   "codemirror_mode": {
    "name": "ipython",
    "version": 3
   },
   "file_extension": ".py",
   "mimetype": "text/x-python",
   "name": "python",
   "nbconvert_exporter": "python",
   "pygments_lexer": "ipython3",
   "version": "3.11.7"
  }
 },
 "nbformat": 4,
 "nbformat_minor": 2
}
