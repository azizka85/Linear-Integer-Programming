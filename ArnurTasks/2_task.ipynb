{
 "cells": [
  {
   "cell_type": "markdown",
   "metadata": {},
   "source": [
    "# Нахождение базовых допустимых решений"
   ]
  },
  {
   "cell_type": "markdown",
   "metadata": {},
   "source": [
    "минимизировать: $$-x_1 - 2x_2$$\n",
    "\n",
    "при условии: $$-2x_1 + x_2 \\leq 2$$\n",
    "             $$-x_1 + x_2 \\leq 3$$\n",
    "             $$x_1 \\leq 2$$\n",
    "             $$x_1, x_2 \\geq 0$$\n"
   ]
  },
  {
   "cell_type": "code",
   "execution_count": 1,
   "metadata": {},
   "outputs": [
    {
     "data": {
      "text/plain": [
       "        message: Optimization terminated successfully. (HiGHS Status 7: Optimal)\n",
       "        success: True\n",
       "         status: 0\n",
       "            fun: -3.0\n",
       "              x: [ 1.000e+00  1.000e+00]\n",
       "            nit: 0\n",
       "          lower:  residual: [ 1.000e+00  1.000e+00]\n",
       "                 marginals: [ 0.000e+00  0.000e+00]\n",
       "          upper:  residual: [ 0.000e+00  0.000e+00]\n",
       "                 marginals: [-1.000e+00 -2.000e+00]\n",
       "          eqlin:  residual: []\n",
       "                 marginals: []\n",
       "        ineqlin:  residual: [ 0.000e+00  0.000e+00  3.000e+00  3.000e+00]\n",
       "                 marginals: [-0.000e+00 -0.000e+00 -0.000e+00 -0.000e+00]\n",
       " mip_node_count: 0\n",
       " mip_dual_bound: 0.0\n",
       "        mip_gap: 0.0"
      ]
     },
     "execution_count": 1,
     "metadata": {},
     "output_type": "execute_result"
    }
   ],
   "source": [
    "import numpy as np\n",
    "from scipy.optimize import linprog\n",
    "\n",
    "# Define the coefficients of the objective function\n",
    "c = [-1., -2.]\n",
    "\n",
    "# Define the inequality constraints matrix A and vector b\n",
    "A = np.array([[1., 0.], [0., 1.], [-2., 1.], [-1., 1.]])\n",
    "b = np.array([1., 1., 2., 3.])\n",
    "\n",
    "# Define the bounds for x1 and x2\n",
    "x1_bounds = (0, 1)\n",
    "x2_bounds = (0, 1)\n",
    "\n",
    "# Solve the linear programming problem\n",
    "linprog(c, A_ub=A, b_ub=b, bounds=[x1_bounds, x2_bounds])"
   ]
  }
 ],
 "metadata": {
  "kernelspec": {
   "display_name": ".venv",
   "language": "python",
   "name": "python3"
  },
  "language_info": {
   "codemirror_mode": {
    "name": "ipython",
    "version": 3
   },
   "file_extension": ".py",
   "mimetype": "text/x-python",
   "name": "python",
   "nbconvert_exporter": "python",
   "pygments_lexer": "ipython3",
   "version": "3.11.7"
  }
 },
 "nbformat": 4,
 "nbformat_minor": 2
}
