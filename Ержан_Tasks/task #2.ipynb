{
 "cells": [
  {
   "cell_type": "markdown",
   "metadata": {},
   "source": [
    "# Нахождение базовых допустимых решений"
   ]
  },
  {
   "cell_type": "code",
   "execution_count": 11,
   "metadata": {},
   "outputs": [],
   "source": [
    "import sys\n",
    "\n",
    "sys.path.append('..')"
   ]
  },
  {
   "cell_type": "markdown",
   "metadata": {},
   "source": [
    "\n",
    "\n",
    "минимизировать: $$-5x_1 + 4x_2 - 6x_3^+ + 6x_3^-$$\n",
    "\n",
    "при условии: $$-x_1 +x_2 +s_1 = -7$$\n",
    "             $$2x_2 - x_3^+ +x_3^- -s_2 = 2$$\n",
    "             $$x_1 + 2x_3^+ - 2x_3^- =7$$\n",
    "             $$x_1, x_2, x_3^+, x_3^-,s_1,s_2 \\geq 0$$\n",
    "\n",
    "<br/>\n",
    "\n",
    "<center>\n",
    "    <h3>Стандартная форма</h3>\n",
    "</center>\n",
    "\n",
    "минимизировать: $$-5x_1 + 4x_2 - 6x_3^+ + 6x_3^- + 0s_1 + 0s_2$$\n",
    "\n",
    "при условии: $$-x_1 +x_2 +s_1 = -7$$\n",
    "             $$2x_2 - x_3^+ +x_3^- -s_2 = 2$$\n",
    "             $$x_1 + 2x_3^+ - 2x_3^- =7$$\n",
    "\n",
    "<br/>             \n",
    "\n",
    "$$\n",
    "    A = \\begin{pmatrix}        \n",
    "        -1 & 1 & 0 & 0 & 1 & 0 \\\\\n",
    "        0 & 2 & -1 & 1 & 0 & -1 \\\\\n",
    "        1 & 0 & 2 & -2 & 0 & 0 \\\\\n",
    "    \\end{pmatrix},\n",
    "\n",
    "    b = \\begin{pmatrix} \n",
    "        -7 \\\\\n",
    "        2 \\\\\n",
    "        7 \\\\\n",
    "    \\end{pmatrix}\n",
    "$$"
   ]
  },
  {
   "cell_type": "code",
   "execution_count": 12,
   "metadata": {},
   "outputs": [
    {
     "name": "stdout",
     "output_type": "stream",
     "text": [
      "[0, 1, 2]: k = 2, x[k] = -0.4 отрицательна\n",
      "---\n",
      "\n",
      "[0, 1, 3]: x = [7.8 0.8 0.4] является базовым допустим решением\n",
      "---\n",
      "\n",
      "[0, 1, 4]: k = 2, x[k] = -1.0 отрицательна\n",
      "---\n",
      "\n",
      "[0, 1, 5]: k = 2, x[k] = -2.0 отрицательна\n",
      "---\n",
      "\n",
      "[0, 2, 3]:\n",
      "Матрица B = [[-1.  0.  1.]\n",
      " [ 0. -1.  2.]\n",
      " [ 0.  1. -2.]] вырождена\n",
      "---\n",
      "\n",
      "[0, 2, 4]: k = 1, x[k] = -2.0 отрицательна\n",
      "---\n",
      "\n",
      "[0, 2, 5]: k = 2, x[k] = -2.0 отрицательна\n",
      "---\n",
      "\n",
      "[0, 3, 4]: x = [11.  2.  4.] является базовым допустим решением\n",
      "---\n",
      "\n",
      "[0, 3, 5]: k = 2, x[k] = -2.0 отрицательна\n",
      "---\n",
      "\n",
      "[0, 4, 5]: k = 2, x[k] = -2.0 отрицательна\n",
      "---\n",
      "\n",
      "[1, 2, 3]:\n",
      "Матрица B = [[ 1.  2.  0.]\n",
      " [ 0. -1.  2.]\n",
      " [ 0.  1. -2.]] вырождена\n",
      "---\n",
      "\n",
      "[1, 2, 4]: k = 2, x[k] = -9.75 отрицательна\n",
      "---\n",
      "\n",
      "[1, 2, 5]: k = 0, x[k] = -7.0 отрицательна\n",
      "---\n",
      "\n",
      "[1, 3, 4]: k = 1, x[k] = -3.5 отрицательна\n",
      "---\n",
      "\n",
      "[1, 3, 5]: k = 0, x[k] = -7.0 отрицательна\n",
      "---\n",
      "\n",
      "[1, 4, 5]:\n",
      "Матрица B = [[ 1.  2.  0.]\n",
      " [ 1.  0.  0.]\n",
      " [ 0. -1.  0.]] вырождена\n",
      "---\n",
      "\n",
      "[2, 3, 4]:\n",
      "Матрица B = [[ 0. -1.  2.]\n",
      " [ 0.  1. -2.]\n",
      " [ 1.  0.  0.]] вырождена\n",
      "---\n",
      "\n",
      "[2, 3, 5]:\n",
      "Матрица B = [[ 0. -1.  2.]\n",
      " [ 0.  1. -2.]\n",
      " [ 0. -1.  0.]] вырождена\n",
      "---\n",
      "\n",
      "[2, 4, 5]: k = 1, x[k] = -7.0 отрицательна\n",
      "---\n",
      "\n",
      "[3, 4, 5]: k = 0, x[k] = -3.5 отрицательна\n",
      "---\n",
      "\n"
     ]
    },
    {
     "data": {
      "text/plain": [
       "[array([7.8, 0.8, 0. , 0.4, 0. , 0. ]), array([11.,  0.,  0.,  2.,  4.,  0.])]"
      ]
     },
     "execution_count": 12,
     "metadata": {},
     "output_type": "execute_result"
    }
   ],
   "source": [
    "from modules.feasable_set import generate_feasable_set\n",
    "\n",
    "A = [[-1.,   0.,   1.],\n",
    "    [ 1.,   2.,   0. ],\n",
    "    [ 0.,  -1.,   2. ],\n",
    "    [ 0.,   1.,  -2. ],\n",
    "    [ 1.,   0.,   0. ],\n",
    "    [ 0.,  -1,  0.]]\n",
    "\n",
    "\n",
    "b = [-7., 2., 7.]\n",
    "\n",
    "bfs = generate_feasable_set(A, b)\n",
    "\n",
    "bfs"
   ]
  },
  {
   "cell_type": "code",
   "execution_count": 13,
   "metadata": {},
   "outputs": [
    {
     "name": "stdout",
     "output_type": "stream",
     "text": [
      "Минимальное значение: -43.0\n"
     ]
    },
    {
     "data": {
      "text/plain": [
       "array([11.,  0.,  0.,  2.,  4.,  0.])"
      ]
     },
     "execution_count": 13,
     "metadata": {},
     "output_type": "execute_result"
    }
   ],
   "source": [
    "from numpy import dot, array\n",
    "\n",
    "c = array([-5, 4, -6, 6, 0, 0])\n",
    "\n",
    "min_val = 1\n",
    "x_min = None\n",
    "\n",
    "for x in bfs:\n",
    "    val = dot(c, x)\n",
    "\n",
    "    if val < min_val:\n",
    "        x_min = x\n",
    "        min_val = val\n",
    "\n",
    "print(f'Минимальное значение: {min_val}')\n",
    "\n",
    "x_min"
   ]
  },
  {
   "cell_type": "code",
   "execution_count": 20,
   "metadata": {},
   "outputs": [
    {
     "data": {
      "text/plain": [
       "       message: The problem is unbounded. (HiGHS Status 10: model_status is Unbounded; primal_status is At upper bound)\n",
       "       success: False\n",
       "        status: 3\n",
       "           fun: None\n",
       "             x: None\n",
       "           nit: 4\n",
       "         lower:  residual: None\n",
       "                marginals: None\n",
       "         upper:  residual: None\n",
       "                marginals: None\n",
       "         eqlin:  residual: None\n",
       "                marginals: None\n",
       "       ineqlin:  residual: None\n",
       "                marginals: None"
      ]
     },
     "execution_count": 20,
     "metadata": {},
     "output_type": "execute_result"
    }
   ],
   "source": [
    "from scipy.optimize import linprog\n",
    "\n",
    "c = [-5, 4, -6, 6, 0, 0]\n",
    "A = [[-1., 1., 0., 0., 1., 0.],\n",
    "        [0., 2., -1., 1., 0., -.1],\n",
    "        [1., 0., 2., -2., 0., 0.]]\n",
    "b =  [-7., 2., 7.]\n",
    "bounds =  [(0, None), (0, None), (0, None), (0, None), (0, None), (0, None)]\n",
    "\n",
    "linprog(c, A_eq=A, b_eq=b, bounds=bounds)"
   ]
  }
 ],
 "metadata": {
  "kernelspec": {
   "display_name": ".venv",
   "language": "python",
   "name": "python3"
  },
  "language_info": {
   "codemirror_mode": {
    "name": "ipython",
    "version": 3
   },
   "file_extension": ".py",
   "mimetype": "text/x-python",
   "name": "python",
   "nbconvert_exporter": "python",
   "pygments_lexer": "ipython3",
   "version": "3.11.7"
  }
 },
 "nbformat": 4,
 "nbformat_minor": 2
}
