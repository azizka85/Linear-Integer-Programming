{
 "cells": [
  {
   "cell_type": "markdown",
   "metadata": {},
   "source": [
    "### Задача №1"
   ]
  },
  {
   "cell_type": "markdown",
   "metadata": {},
   "source": [
    "минимизировать: $$10i_1 + 10i_2 + 10i_3 + 10i_4$$\n",
    "\n",
    "при условии: $$i_0 + x_1 = 30 + i_2$$\n",
    "             $$i_1 + x_2 = 40 + i_2 $$\n",
    "             $$i_2 + x_3 = 10 + i_3$$\n",
    "             $$i_3 + x_4 = 20 + i_4 $$\n",
    "             $$i_0 = 5$$\n",
    "             $$i_4 = 0$$\n",
    "             $$i_0,i_1,i_2,i_3,i_4,x_1,x_2,x_3,x_4 \\geq 0$$"
   ]
  },
  {
   "cell_type": "code",
   "execution_count": 5,
   "metadata": {},
   "outputs": [
    {
     "data": {
      "text/plain": [
       "        message: Optimization terminated successfully. (HiGHS Status 7: Optimal)\n",
       "        success: True\n",
       "         status: 0\n",
       "            fun: 0.0\n",
       "              x: [ 5.000e+00  0.000e+00  0.000e+00  0.000e+00  0.000e+00\n",
       "                   3.000e+01  3.500e+01  1.000e+01  2.000e+01]\n",
       "            nit: 0\n",
       "          lower:  residual: [ 5.000e+00  0.000e+00  0.000e+00  0.000e+00\n",
       "                              0.000e+00  3.000e+01  3.500e+01  1.000e+01\n",
       "                              2.000e+01]\n",
       "                 marginals: [ 0.000e+00  1.000e+01  1.000e+01  1.000e+01\n",
       "                              1.000e+01  0.000e+00  0.000e+00  0.000e+00\n",
       "                              0.000e+00]\n",
       "          upper:  residual: [       inf        inf        inf        inf\n",
       "                                    inf        inf        inf        inf\n",
       "                                    inf]\n",
       "                 marginals: [ 0.000e+00  0.000e+00  0.000e+00  0.000e+00\n",
       "                              0.000e+00  0.000e+00  0.000e+00  0.000e+00\n",
       "                              0.000e+00]\n",
       "          eqlin:  residual: [ 0.000e+00  0.000e+00  0.000e+00  0.000e+00\n",
       "                              0.000e+00  0.000e+00]\n",
       "                 marginals: [-0.000e+00 -0.000e+00 -0.000e+00 -0.000e+00\n",
       "                             -0.000e+00 -0.000e+00]\n",
       "        ineqlin:  residual: []\n",
       "                 marginals: []\n",
       " mip_node_count: 0\n",
       " mip_dual_bound: 0.0\n",
       "        mip_gap: 0.0"
      ]
     },
     "execution_count": 5,
     "metadata": {},
     "output_type": "execute_result"
    }
   ],
   "source": [
    "from scipy.optimize import linprog\n",
    "\n",
    "c = [0., 10., 10., 10., 10., 0., 0., 0., 0.]\n",
    "\n",
    "A_eq =[[0., 1., -1., 0., 0., 1., 0., 0., 0.], \n",
    "       [1., 0., -1., 0., 0., 0., 1., 0., 0.,], \n",
    "       [0., 1., 0., -1., 0., 0., 0., 1., 0.], \n",
    "       [0., 0., 1., 0., -1., 0., 0., 0., 1.,], \n",
    "       [1., 0., 0., 0., 0., 0., 0., 0., 0.],\n",
    "       [0., 0., 0., 0., 1., 0., 0., 0., 0.,]]\n",
    "\n",
    "b_eq = [30., 40., 10., 20., 5., 0.]\n",
    "\n",
    "bounds = [(0, None) for _ in range(9)]\n",
    "\n",
    "linprog(c, A_eq=A_eq, b_eq=b_eq, bounds=bounds, method='highs')\n"
   ]
  }
 ],
 "metadata": {
  "kernelspec": {
   "display_name": ".venv",
   "language": "python",
   "name": "python3"
  },
  "language_info": {
   "codemirror_mode": {
    "name": "ipython",
    "version": 3
   },
   "file_extension": ".py",
   "mimetype": "text/x-python",
   "name": "python",
   "nbconvert_exporter": "python",
   "pygments_lexer": "ipython3",
   "version": "3.11.7"
  }
 },
 "nbformat": 4,
 "nbformat_minor": 2
}
