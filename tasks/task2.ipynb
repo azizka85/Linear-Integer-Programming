{
 "cells": [
  {
   "cell_type": "markdown",
   "id": "ffe17c18",
   "metadata": {},
   "source": [
    "Задание №3 \n",
    "Решите задачу Линейного программирования используя Симплекс метод\n",
    "минимизировать:\n",
    "                -4x1-3x2\n",
    "при условии:\n",
    "                 x1+2x2⩽8\n",
    "                -2x1+x2⩽5  \n",
    "                 5x1+3x2⩽16  \n",
    "                 x1≥0,x2≥0.  "
   ]
  },
  {
   "cell_type": "code",
   "execution_count": 4,
   "id": "2088ea6c",
   "metadata": {},
   "outputs": [
    {
     "name": "stdout",
     "output_type": "stream",
     "text": [
      "Минимальное значение z: 10.0\n",
      "Оптимальные значения: x1 = 2.5 , x2 = 0.0\n"
     ]
    }
   ],
   "source": [
    "from scipy.optimize import linprog\n",
    "\n",
    "# Определите коэффициенты целевой функции\n",
    "c = [4, 3]\n",
    "\n",
    "# Определите матрицу A для неравенств Ax <= b\n",
    "A = [[1, 2], [-2, 1], [5, 3]]\n",
    "\n",
    "# Определите вектор b для неравенств Ax <= b\n",
    "b = [8, -5, 16]\n",
    "\n",
    "# Определите границы для переменных\n",
    "x_bounds = [(0, None), (0, None)]\n",
    "\n",
    "# Решите задачу линейного программирования\n",
    "res = linprog(c, A_ub=A, b_ub=b, bounds=x_bounds, method='highs')\n",
    "\n",
    "# Проверьте, было ли найдено решение, прежде чем использовать res.fun\n",
    "if res.success:\n",
    "    # Выведите результаты\n",
    "    print(\"Минимальное значение z:\", res.fun)\n",
    "    print(\"Оптимальные значения: x1 =\", res.x[0], \", x2 =\", res.x[1])\n",
    "else:\n",
    "    print(\"Не удалось найти решение.\")\n"
   ]
  },
  {
   "cell_type": "code",
   "execution_count": null,
   "id": "6105db79",
   "metadata": {},
   "outputs": [],
   "source": []
  }
 ],
 "metadata": {
  "kernelspec": {
   "display_name": "Python 3 (ipykernel)",
   "language": "python",
   "name": "python3"
  },
  "language_info": {
   "codemirror_mode": {
    "name": "ipython",
    "version": 3
   },
   "file_extension": ".py",
   "mimetype": "text/x-python",
   "name": "python",
   "nbconvert_exporter": "python",
   "pygments_lexer": "ipython3",
   "version": "3.11.4"
  }
 },
 "nbformat": 4,
 "nbformat_minor": 5
}
