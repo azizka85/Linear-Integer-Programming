{
 "cells": [
  {
   "cell_type": "markdown",
   "metadata": {},
   "source": [
    "Задание №2"
   ]
  },
  {
   "cell_type": "code",
   "execution_count": 4,
   "metadata": {},
   "outputs": [],
   "source": [
    "import sys\n",
    "\n",
    "sys.path.append('..')"
   ]
  },
  {
   "cell_type": "markdown",
   "metadata": {},
   "source": [
    "### Задание №2\n",
    "\n",
    "\n",
    "минимизировать: $$-x_1 - 2x_2$$\n",
    "\n",
    "при условии: $$x_1 - 2x_2  \\geq 2$$\n",
    "             $$x_1 + x_2  \\leq 4$$\n",
    "             $$x_1, x_2, \\geq 0$$\n",
    "\n",
    "<br/>             \n",
    "\n",
    "$$\n",
    "    A = \\begin{pmatrix}        \n",
    "        1 & -2 &  \\\\\n",
    "        1 &  1 &  \\\\\n",
    "    \\end{pmatrix},\n",
    "\n",
    "    b = \\begin{pmatrix} \n",
    "        2 \\\\\n",
    "        4 \\\\\n",
    "    \\end{pmatrix}\n",
    "$$\n"
   ]
  },
  {
   "cell_type": "code",
   "execution_count": 5,
   "metadata": {},
   "outputs": [
    {
     "name": "stdout",
     "output_type": "stream",
     "text": [
      "[0, 1]: k = 0, x[k] = -0.6666666666666667 отрицательна\n",
      "---\n",
      "\n"
     ]
    },
    {
     "data": {
      "text/plain": [
       "[]"
      ]
     },
     "execution_count": 5,
     "metadata": {},
     "output_type": "execute_result"
    }
   ],
   "source": [
    "from modules.feasable_set import generate_feasable_set\n",
    "\n",
    "A = [\n",
    "    [1., -2.],\n",
    "    [1., 1.]\n",
    "]\n",
    "\n",
    "b = [2., 4.]\n",
    "\n",
    "bfs = generate_feasable_set(A, b)\n",
    "\n",
    "bfs"
   ]
  }
 ],
 "metadata": {
  "kernelspec": {
   "display_name": ".venv",
   "language": "python",
   "name": "python3"
  },
  "language_info": {
   "codemirror_mode": {
    "name": "ipython",
    "version": 3
   },
   "file_extension": ".py",
   "mimetype": "text/x-python",
   "name": "python",
   "nbconvert_exporter": "python",
   "pygments_lexer": "ipython3",
   "version": "3.11.7"
  }
 },
 "nbformat": 4,
 "nbformat_minor": 2
}
