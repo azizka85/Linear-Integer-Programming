{
 "cells": [
  {
   "cell_type": "markdown",
   "metadata": {},
   "source": [
    "# Задание №1"
   ]
  },
  {
   "cell_type": "markdown",
   "metadata": {},
   "source": [
    "минимизировать: $$-5x_1 + 4x_2 - 6x_{31} + 6x_{32}$$\n",
    "\n",
    "при условии: $$-x_1 + x_2 + s_1 = -7$$\n",
    "             $$2x_2 - x_{31} + x_{32} - s_2 = 2$$\n",
    "             $$x_1 + 2x_{31} - 2x_{32} = 7$$        \n",
    "             $$x_1, x_2, x_{31}, x_{32}, s_1, s_2 \\geq 0$$"
   ]
  },
  {
   "cell_type": "code",
   "execution_count": 2,
   "metadata": {},
   "outputs": [
    {
     "data": {
      "text/plain": [
       "       message: The problem is unbounded. (HiGHS Status 10: model_status is Unbounded; primal_status is At upper bound)\n",
       "       success: False\n",
       "        status: 3\n",
       "           fun: None\n",
       "             x: None\n",
       "           nit: 4\n",
       "         lower:  residual: None\n",
       "                marginals: None\n",
       "         upper:  residual: None\n",
       "                marginals: None\n",
       "         eqlin:  residual: None\n",
       "                marginals: None\n",
       "       ineqlin:  residual: None\n",
       "                marginals: None"
      ]
     },
     "execution_count": 2,
     "metadata": {},
     "output_type": "execute_result"
    }
   ],
   "source": [
    "from scipy.optimize import linprog\n",
    "\n",
    "c = [-5, 4, -6, 6, 0, 0]\n",
    "\n",
    "A = [\n",
    "    [-1, 1, 0, 0, 1, 0],\n",
    "    [0, 2, -1, 1, 0, -1],\n",
    "    [1, 0, 2, -2, 0, 0]\n",
    "]\n",
    "\n",
    "b = [-7, 2, 7]\n",
    "\n",
    "bounds = [\n",
    "    [0, None],\n",
    "    [0, None],\n",
    "    [0, None],\n",
    "    [0, None],\n",
    "    [0, None],\n",
    "    [0, None]\n",
    "]\n",
    "\n",
    "linprog(c, A_eq=A, b_eq=b, bounds=bounds)"
   ]
  }
 ],
 "metadata": {
  "kernelspec": {
   "display_name": ".venv",
   "language": "python",
   "name": "python3"
  },
  "language_info": {
   "codemirror_mode": {
    "name": "ipython",
    "version": 3
   },
   "file_extension": ".py",
   "mimetype": "text/x-python",
   "name": "python",
   "nbconvert_exporter": "python",
   "pygments_lexer": "ipython3",
   "version": "3.11.7"
  }
 },
 "nbformat": 4,
 "nbformat_minor": 2
}
