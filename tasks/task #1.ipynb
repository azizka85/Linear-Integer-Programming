{
 "cells": [
  {
   "cell_type": "markdown",
   "metadata": {},
   "source": [
    "# Задание #1"
   ]
  },
  {
   "cell_type": "markdown",
   "metadata": {},
   "source": [
    "минимизировать: $$0.2x_{pb} + 0.1x_b + 0.15x_c$$\n",
    "\n",
    "при условии: $$130x_{pb} + x_b + 12x_c \\geq 35$$\n",
    "             $$51.6x_{pb} + 51x_b + 22x_c \\geq 130$$\n",
    "             $$64.7x_{pb} + 2x_b + 2x_c \\geq 76$$\n",
    "             $$x_{pb}, x_b, x_c \\geq 0$$             "
   ]
  },
  {
   "cell_type": "code",
   "execution_count": 1,
   "metadata": {},
   "outputs": [
    {
     "data": {
      "text/plain": [
       "        message: Optimization terminated successfully. (HiGHS Status 7: Optimal)\n",
       "        success: True\n",
       "         status: 0\n",
       "            fun: 0.36669482246206786\n",
       "              x: [ 1.131e+00  1.404e+00  0.000e+00]\n",
       "            nit: 2\n",
       "          lower:  residual: [ 1.131e+00  1.404e+00  0.000e+00]\n",
       "                 marginals: [ 0.000e+00  0.000e+00  1.051e-01]\n",
       "          upper:  residual: [       inf        inf        inf]\n",
       "                 marginals: [ 0.000e+00  0.000e+00  0.000e+00]\n",
       "          eqlin:  residual: []\n",
       "                 marginals: []\n",
       "        ineqlin:  residual: [ 1.135e+02  0.000e+00  0.000e+00]\n",
       "                 marginals: [-0.000e+00 -1.899e-03 -1.577e-03]\n",
       " mip_node_count: 0\n",
       " mip_dual_bound: 0.0\n",
       "        mip_gap: 0.0"
      ]
     },
     "execution_count": 1,
     "metadata": {},
     "output_type": "execute_result"
    }
   ],
   "source": [
    "from scipy.optimize import linprog\n",
    "\n",
    "c = [0.2, 0.1, 0.15]\n",
    "\n",
    "A = [\n",
    "    [-130., -1., -12.],\n",
    "    [-51.6, -51., -22.],\n",
    "    [-64.7, -2., -2.]\n",
    "]\n",
    "\n",
    "b = [-35., -130., -76.]\n",
    "\n",
    "bounds = [\n",
    "    [0, None],\n",
    "    [0, None],\n",
    "    [0, None]\n",
    "]\n",
    "\n",
    "linprog(c, A, b, bounds=bounds)"
   ]
  }
 ],
 "metadata": {
  "kernelspec": {
   "display_name": ".venv",
   "language": "python",
   "name": "python3"
  },
  "language_info": {
   "codemirror_mode": {
    "name": "ipython",
    "version": 3
   },
   "file_extension": ".py",
   "mimetype": "text/x-python",
   "name": "python",
   "nbconvert_exporter": "python",
   "pygments_lexer": "ipython3",
   "version": "3.11.7"
  }
 },
 "nbformat": 4,
 "nbformat_minor": 2
}
