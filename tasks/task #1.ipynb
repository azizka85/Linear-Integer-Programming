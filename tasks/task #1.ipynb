{
 "cells": [
  {
   "cell_type": "markdown",
   "metadata": {},
   "source": [
    "# Задание №1"
   ]
  },
  {
   "cell_type": "markdown",
   "metadata": {},
   "source": [
    "минимизировать: $$102x_1 + 99x_2 + 98x_3$$\n",
    "\n",
    "при условии: $$105x_1 + 3.5x_2 + 3.5x_3 \\geq 12000$$\n",
    "             $$103.5x_2 + 3.5x_3 \\geq 18000$$\n",
    "             $$103.5x_3 \\geq 20000$$\n",
    "             $$x_1, x_2, x_3 \\geq 0$$\n",
    "             \n",
    "\n",
    "            "
   ]
  },
  {
   "cell_type": "code",
   "execution_count": 2,
   "metadata": {},
   "outputs": [
    {
     "data": {
      "text/plain": [
       "        message: Optimization terminated successfully. (HiGHS Status 7: Optimal)\n",
       "        success: True\n",
       "         status: 0\n",
       "            fun: 45938.71768969437\n",
       "              x: [ 1.023e+02  1.674e+02  1.932e+02]\n",
       "            nit: 0\n",
       "          lower:  residual: [ 1.023e+02  1.674e+02  1.932e+02]\n",
       "                 marginals: [ 0.000e+00  0.000e+00  0.000e+00]\n",
       "          upper:  residual: [       inf        inf        inf]\n",
       "                 marginals: [ 0.000e+00  0.000e+00  0.000e+00]\n",
       "          eqlin:  residual: []\n",
       "                 marginals: []\n",
       "        ineqlin:  residual: [ 0.000e+00  0.000e+00  0.000e+00]\n",
       "                 marginals: [-9.714e-01 -9.237e-01 -8.828e-01]\n",
       " mip_node_count: 0\n",
       " mip_dual_bound: 0.0\n",
       "        mip_gap: 0.0"
      ]
     },
     "execution_count": 2,
     "metadata": {},
     "output_type": "execute_result"
    }
   ],
   "source": [
    "from scipy.optimize import linprog\n",
    "\n",
    "c = [102., 99., 98.]\n",
    "\n",
    "A = [\n",
    "     [-105., -3.5, -3.5],\n",
    "     [0., -103.5, -3.5],\n",
    "     [0., 0., -103.5]\n",
    "]\n",
    "\n",
    "\n",
    "b = [-12000, -18000, -20000]\n",
    "\n",
    "x_bounds = [\n",
    "    (0, None), \n",
    "    (0, None), \n",
    "    (0, None)\n",
    "]\n",
    "\n",
    "linprog(c, A, b, bounds=x_bounds)"
   ]
  }
 ],
 "metadata": {
  "kernelspec": {
   "display_name": "Python 3 (ipykernel)",
   "language": "python",
   "name": "python3"
  },
  "language_info": {
   "codemirror_mode": {
    "name": "ipython",
    "version": 3
   },
   "file_extension": ".py",
   "mimetype": "text/x-python",
   "name": "python",
   "nbconvert_exporter": "python",
   "pygments_lexer": "ipython3",
   "version": "3.11.7"
  }
 },
 "nbformat": 4,
 "nbformat_minor": 2
}
