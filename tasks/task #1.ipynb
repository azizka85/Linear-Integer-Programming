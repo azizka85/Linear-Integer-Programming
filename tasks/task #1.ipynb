{
 "cells": [
  {
   "cell_type": "markdown",
   "metadata": {},
   "source": [
    "# Задание #1"
   ]
  },
  {
   "cell_type": "markdown",
   "metadata": {},
   "source": [
    "минимизировать: $$x_1 + x_2 + x_3 + x_4 + x_5 + x_6 + x_7$$\n",
    "\n",
    "при условии: $$x_1 + x_4 + x_5 + x_6 + x_7 \\geq 25$$\n",
    "             $$x_1 + x_2 + x_5 + x_6 + x_7 \\geq 25$$\n",
    "             $$x_1 + x_2 + x_3 + x_6 + x_7 \\geq 22$$\n",
    "             $$x_1 + x_2 + x_3 + x_4 + x_7 \\geq 21$$\n",
    "             $$x_1 + x_2 + x_3 + x_4 + x_5 \\geq 23$$\n",
    "             $$x_2 + x_3 + x_4 + x_5 + x_6 \\geq 20$$\n",
    "             $$x_3 + x_4 + x_5 + x_6 + x_7 \\geq 18$$\n",
    "             $$x_i \\geq 0, i = 1,.., 7$$"
   ]
  },
  {
   "cell_type": "code",
   "execution_count": 1,
   "metadata": {},
   "outputs": [
    {
     "data": {
      "text/plain": [
       "        message: Optimization terminated successfully. (HiGHS Status 7: Optimal)\n",
       "        success: True\n",
       "         status: 0\n",
       "            fun: 30.800000000000004\n",
       "              x: [ 8.400e+00  4.400e+00  1.400e+00  4.400e+00  4.400e+00\n",
       "                   5.400e+00  2.400e+00]\n",
       "            nit: 7\n",
       "          lower:  residual: [ 8.400e+00  4.400e+00  1.400e+00  4.400e+00\n",
       "                              4.400e+00  5.400e+00  2.400e+00]\n",
       "                 marginals: [ 0.000e+00  0.000e+00  0.000e+00  0.000e+00\n",
       "                              0.000e+00  0.000e+00  0.000e+00]\n",
       "          upper:  residual: [       inf        inf        inf        inf\n",
       "                                    inf        inf        inf]\n",
       "                 marginals: [ 0.000e+00  0.000e+00  0.000e+00  0.000e+00\n",
       "                              0.000e+00  0.000e+00  0.000e+00]\n",
       "          eqlin:  residual: []\n",
       "                 marginals: []\n",
       "        ineqlin:  residual: [ 0.000e+00  0.000e+00  0.000e+00  0.000e+00\n",
       "                              0.000e+00  0.000e+00  0.000e+00]\n",
       "                 marginals: [-2.000e-01 -2.000e-01 -2.000e-01 -2.000e-01\n",
       "                             -2.000e-01 -2.000e-01 -2.000e-01]\n",
       " mip_node_count: 0\n",
       " mip_dual_bound: 0.0\n",
       "        mip_gap: 0.0"
      ]
     },
     "execution_count": 1,
     "metadata": {},
     "output_type": "execute_result"
    }
   ],
   "source": [
    "from scipy.optimize import linprog\n",
    "\n",
    "c = [1., 1., 1., 1., 1., 1., 1.]\n",
    "\n",
    "A = [\n",
    "    [-1., 0., 0., -1., -1., -1., -1.],\n",
    "    [-1., -1., 0., 0., -1., -1., -1.],\n",
    "    [-1., -1., -1., 0., 0., -1., -1.],\n",
    "    [-1., -1., -1., -1., 0., 0., -1.],\n",
    "    [-1., -1., -1., -1., -1., 0., 0.],\n",
    "    [0., -1., -1., -1., -1., -1., 0.],\n",
    "    [0., 0., -1., -1., -1., -1., -1.]\n",
    "]\n",
    "\n",
    "b = [-25, -25, -22, -21, -23, -20, -18]\n",
    "\n",
    "bounds = [\n",
    "    [0, None],\n",
    "    [0, None],\n",
    "    [0, None],\n",
    "    [0, None],\n",
    "    [0, None],\n",
    "    [0, None],\n",
    "    [0, None]\n",
    "]\n",
    "\n",
    "linprog(c, A, b, bounds=bounds)"
   ]
  }
 ],
 "metadata": {
  "kernelspec": {
   "display_name": ".venv",
   "language": "python",
   "name": "python3"
  },
  "language_info": {
   "codemirror_mode": {
    "name": "ipython",
    "version": 3
   },
   "file_extension": ".py",
   "mimetype": "text/x-python",
   "name": "python",
   "nbconvert_exporter": "python",
   "pygments_lexer": "ipython3",
   "version": "3.12.0"
  }
 },
 "nbformat": 4,
 "nbformat_minor": 2
}
