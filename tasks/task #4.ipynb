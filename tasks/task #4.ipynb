{
 "cells": [
  {
   "cell_type": "markdown",
   "metadata": {},
   "source": [
    "# Симплекс метод"
   ]
  },
  {
   "cell_type": "code",
   "execution_count": 1,
   "metadata": {},
   "outputs": [],
   "source": [
    "import sys\n",
    "\n",
    "sys.path.append('..')"
   ]
  },
  {
   "cell_type": "markdown",
   "metadata": {},
   "source": [
    "### Задача (Двухфазный метод)\n",
    "\n",
    "минимизировать: $$x_1 - 2x_2$$\n",
    "\n",
    "при условии: $$x_1 + x_2 \\geq 3$$\n",
    "             $$-x_1 + x_2 \\geq 2$$\n",
    "             $$x_2 \\leq 4$$\n",
    "             $$x_1 \\geq 0, x_2 \\geq 0$$\n",
    "\n",
    "<center>\n",
    "    <h3>Стандартная форма</h3>\n",
    "</center>\n",
    "\n",
    "минимизировать: $$x_1 - 2x_2$$\n",
    "\n",
    "при условии: $$x_1 + x_2 - x_3 = 3$$\n",
    "             $$-x_1 + x_2 - x_4 = 2$$\n",
    "             $$x_2 + x_5 = 4$$\n",
    "             $$x_1, x_2, x_3, x_4, x_5 \\geq 0$$\n",
    "\n",
    "<br/>             \n",
    "\n",
    "$$\n",
    "    A = \\begin{pmatrix}        \n",
    "        1 & 1 & -1 & 0 & 0 \\\\\n",
    "        -1 & 1 & 0 & -1 & 0 \\\\\n",
    "        0 & 1 & 0 & 0 & 1 \\\\\n",
    "    \\end{pmatrix},\n",
    "\n",
    "    b = \\begin{pmatrix} \n",
    "        3 \\\\\n",
    "        2 \\\\\n",
    "        4 \\\\\n",
    "    \\end{pmatrix}\n",
    "$$"
   ]
  },
  {
   "cell_type": "markdown",
   "metadata": {},
   "source": [
    "<center>\n",
    "    <h3>1-ая фаза</h3>\n",
    "</center>\n",
    "\n",
    "минимизировать: $$x_6 + x_7 + x_8$$\n",
    "\n",
    "при условии: $$x_1 + x_2 - x_3 + x_6 = 3$$\n",
    "             $$-x_1 + x_2 - x_4 + x_7 = 2$$\n",
    "             $$ x_2 + x_5 + x_8 = 4$$\n",
    "             $$x_1, x_2, x_3, x_4, x_5, x_6, x_7, x_8 \\geq 0$$\n",
    "\n",
    "<br/>             \n",
    "\n",
    "$$\n",
    "    A = \\begin{pmatrix}        \n",
    "        1 & 1 & -1 & 0 & 0 & 1 & 0 & 0 \\\\\n",
    "        -1 & 1 & 0 & -1 & 0 & 0 & 1 & 0 \\\\\n",
    "        0 & 1 & 0 & 0 & 1 & 0 & 0 & 1 \\\\\n",
    "    \\end{pmatrix},\n",
    "\n",
    "    b = \\begin{pmatrix} \n",
    "        3 \\\\\n",
    "        2 \\\\\n",
    "        4 \\\\\n",
    "    \\end{pmatrix}\n",
    "$$"
   ]
  },
  {
   "cell_type": "code",
   "execution_count": 4,
   "metadata": {},
   "outputs": [
    {
     "name": "stdout",
     "output_type": "stream",
     "text": [
      "Решение: [2. 4. 3. 0. 0. 0. 0. 0.]\n",
      "Целевая функция: 0.0\n"
     ]
    }
   ],
   "source": [
    "from numpy import array\n",
    "from modules.optimize import simplex_method\n",
    "A = array([\n",
    "    [1., 1., -1., 0., 0., 1., 0., 0.],\n",
    "    [-1., 1., 0., -1., 0., 0., 1., 0.],\n",
    "    [0., 1., 0., 0., 1., 0., 0., 1.]\n",
    "])\n",
    "\n",
    "b = array([3., 2., 4.])\n",
    "c = array([0., 0., 0., 0., 0., 1., 1., 1.])\n",
    "\n",
    "x, obj, dir, iter, flag = simplex_method(c, A, b, [5, 6, 7])\n",
    "\n",
    "print(f'Решение: {x}')\n",
    "print(f'Целевая функция: {obj}')"
   ]
  },
  {
   "cell_type": "markdown",
   "metadata": {},
   "source": [
    "<center>\n",
    "    <h3>2-ая фаза</h3>\n",
    "</center>\n",
    "\n",
    "минимизировать: $$x_1 - 2x_2$$\n",
    "\n",
    "при условии: $$x_1 + x_2 - x_3 = 3$$\n",
    "             $$-x_1 + x_2 - x_4 = 2$$\n",
    "             $$x_2 + x_5 = 4$$\n",
    "             $$x_1, x_2, x_3, x_4, x_5 \\geq 0$$\n",
    "\n",
    "<br/>  \n",
    "\n",
    "<br/>             \n",
    "\n",
    "$$\n",
    "    A = \\begin{pmatrix}        \n",
    "        1 & 1 & -1 & 0 & 0 \\\\\n",
    "        -1 & 1 & 0 & -1 & 0 \\\\\n",
    "        0 & 1 & 0 & 0 & 1 \\\\\n",
    "    \\end{pmatrix},\n",
    "\n",
    "    b = \\begin{pmatrix} \n",
    "        3 \\\\\n",
    "        2 \\\\\n",
    "        4 \\\\\n",
    "    \\end{pmatrix},\n",
    "\n",
    "    B = \\begin{pmatrix}        \n",
    "        1 & 1 & -1 \\\\\n",
    "        -1 & 1 & 0 \\\\\n",
    "        0 & 1 & 0 \\\\\n",
    "    \\end{pmatrix},\n",
    "\n",
    "    N = \\begin{pmatrix}        \n",
    "        0 & 0 \\\\\n",
    "        -1 & 0 \\\\\n",
    "        0 & 1 \\\\\n",
    "    \\end{pmatrix}\n",
    "$$"
   ]
  },
  {
   "cell_type": "code",
   "execution_count": 5,
   "metadata": {},
   "outputs": [
    {
     "name": "stdout",
     "output_type": "stream",
     "text": [
      "Решение: [0. 4. 1. 2. 0.]\n",
      "Целевая функция: -8.0\n",
      "Направление рецессии: [-1. -0. -1.  1.  0.]\n",
      "Количество итерации: 1\n",
      "Задача не ограничена: False\n"
     ]
    }
   ],
   "source": [
    "A = array([\n",
    "    [1., 1., -1., 0., 0.],\n",
    "    [-1., 1., 0., -1., 0.],\n",
    "    [0., 1., 0., 0., 1.]\n",
    "])\n",
    "\n",
    "b = array([3., 2., 4.])\n",
    "c = array([1., -2., 0., 0., 0.])\n",
    "\n",
    "x, obj, dir, iter, flag = simplex_method(c, A, b, [0, 1, 2])\n",
    "\n",
    "print(f'Решение: {x}')\n",
    "print(f'Целевая функция: {obj}')\n",
    "print(f'Направление рецессии: {dir}')\n",
    "print(f'Количество итерации: {iter}')\n",
    "print(f'Задача не ограничена: {flag}')"
   ]
  }
 ],
 "metadata": {
  "kernelspec": {
   "display_name": ".venv",
   "language": "python",
   "name": "python3"
  },
  "language_info": {
   "codemirror_mode": {
    "name": "ipython",
    "version": 3
   },
   "file_extension": ".py",
   "mimetype": "text/x-python",
   "name": "python",
   "nbconvert_exporter": "python",
   "pygments_lexer": "ipython3",
   "version": "3.11.7"
  }
 },
 "nbformat": 4,
 "nbformat_minor": 2
}
