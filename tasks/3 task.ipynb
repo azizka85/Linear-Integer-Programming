{
 "cells": [
  {
   "cell_type": "code",
   "execution_count": 30,
   "metadata": {},
   "outputs": [],
   "source": [
    "import sys\n",
    "\n",
    "sys.path.append('..')"
   ]
  },
  {
   "cell_type": "markdown",
   "metadata": {},
   "source": [
    "### Задача №3\n",
    "\n",
    "максимизировать: $$2x_1 + 2x_2 + 3x_3 + x_4 + 4x_5$$\n",
    "\n",
    "при условии: $$3x_1 + 7x_2 + 2x_3 + 3x_4 + 2x_5 \\leq 40$$\n",
    "             $$x_1 \\geq 0, x_2 \\geq 0, x_3 \\geq 0, x_4 \\geq 0, x_5 \\geq 0$$\n",
    "\n"
   ]
  },
  {
   "cell_type": "code",
   "execution_count": 4,
   "metadata": {},
   "outputs": [
    {
     "name": "stdout",
     "output_type": "stream",
     "text": [
      "Оптимальные значения переменных: [ 0.  0.  0.  0. 20.]\n",
      "Максимальное значение целевой функции: 80.0\n"
     ]
    }
   ],
   "source": [
    "import numpy as np\n",
    "from scipy.optimize import linprog\n",
    "\n",
    "c = [-2, -2, -3, -1, -4]\n",
    "\n",
    "A = [[3, 7, 2, 3, 2]]\n",
    "b = [40]\n",
    "\n",
    "x_bounds = [(0, None)] * 5\n",
    "\n",
    "result = linprog(c, A_ub=A, b_ub=b, bounds=x_bounds, method='highs')\n",
    "\n",
    "if result.success:\n",
    "    optimal_values = result.x\n",
    "    optimal_objective = -result.fun  # Мы максимизируем, поэтому меняем знак\n",
    "    print(f\"Оптимальные значения переменных: {optimal_values}\")\n",
    "    print(f\"Максимальное значение целевой функции: {optimal_objective}\")\n",
    "else:\n",
    "    print(\"Не удалось найти оптимальное решение.\")\n"
   ]
  },
  {
   "cell_type": "code",
   "execution_count": null,
   "metadata": {},
   "outputs": [],
   "source": []
  }
 ],
 "metadata": {
  "kernelspec": {
   "display_name": ".venv",
   "language": "python",
   "name": "python3"
  },
  "language_info": {
   "codemirror_mode": {
    "name": "ipython",
    "version": 3
   },
   "file_extension": ".py",
   "mimetype": "text/x-python",
   "name": "python",
   "nbconvert_exporter": "python",
   "pygments_lexer": "ipython3",
   "version": "3.11.7"
  }
 },
 "nbformat": 4,
 "nbformat_minor": 2
}
