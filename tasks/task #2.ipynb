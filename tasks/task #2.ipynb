{
 "cells": [
  {
   "cell_type": "markdown",
   "metadata": {},
   "source": [
    "# Задание 2"
   ]
  },
  {
   "cell_type": "code",
   "execution_count": 1,
   "metadata": {},
   "outputs": [],
   "source": [
    "import sys\n",
    "\n",
    "sys.path.append('..')"
   ]
  },
  {
   "cell_type": "markdown",
   "metadata": {},
   "source": [
    "минимизировать: $$-x_1 - x_2$$\n",
    "\n",
    "при условии: $$x_1 + x_3 = 1$$\n",
    "             $$x_2 + x_4 = 1$$\n",
    "             $$x_1 \\geq 0, x_2 \\geq 0, x_3 \\geq 0, x_4 \\geq 0$$"
   ]
  },
  {
   "cell_type": "code",
   "execution_count": 2,
   "metadata": {},
   "outputs": [
    {
     "name": "stdout",
     "output_type": "stream",
     "text": [
      "[0, 1]:\n",
      "Матрица B = [[1. 0.]\n",
      " [1. 0.]] вырождена\n",
      "---\n",
      "\n",
      "[0, 2]: x = [1. 1.] является базовым допустим решением\n",
      "---\n",
      "\n",
      "[0, 3]: x = [1. 1.] является базовым допустим решением\n",
      "---\n",
      "\n",
      "[1, 2]: x = [1. 1.] является базовым допустим решением\n",
      "---\n",
      "\n",
      "[1, 3]: x = [1. 1.] является базовым допустим решением\n",
      "---\n",
      "\n",
      "[2, 3]:\n",
      "Матрица B = [[0. 1.]\n",
      " [0. 1.]] вырождена\n",
      "---\n",
      "\n"
     ]
    },
    {
     "data": {
      "text/plain": [
       "[array([1., 1.]), array([1., 1.]), array([1., 1.]), array([1., 1.])]"
      ]
     },
     "execution_count": 2,
     "metadata": {},
     "output_type": "execute_result"
    }
   ],
   "source": [
    "from modules.feasable_set import generate_feasable_set\n",
    "\n",
    "A = [\n",
    "    [1., 0.],\n",
    "    [1., 0.],\n",
    "    [0., 1.],\n",
    "    [0., 1.]\n",
    "]\n",
    "\n",
    "b = [1., 1.]\n",
    "\n",
    "bfs = generate_feasable_set(A, b)\n",
    "\n",
    "bfs"
   ]
  },
  {
   "cell_type": "code",
   "execution_count": 3,
   "metadata": {},
   "outputs": [
    {
     "name": "stdout",
     "output_type": "stream",
     "text": [
      "Минимальное значение: -2.0\n",
      "x_min = [1. 1.]\n"
     ]
    }
   ],
   "source": [
    "from numpy import dot, array\n",
    "\n",
    "c = array([-1., -1.])\n",
    "\n",
    "min_val = 1\n",
    "x_min = None\n",
    "\n",
    "for x in bfs:\n",
    "    val = dot(c, x)\n",
    "\n",
    "    if val < min_val:\n",
    "        x_min = x\n",
    "        min_val = val\n",
    "\n",
    "print(f'Минимальное значение: {min_val}')\n",
    "print(f'x_min = {x_min}')"
   ]
  },
  {
   "cell_type": "code",
   "execution_count": 4,
   "metadata": {},
   "outputs": [
    {
     "data": {
      "text/plain": [
       "        message: Optimization terminated successfully. (HiGHS Status 7: Optimal)\n",
       "        success: True\n",
       "         status: 0\n",
       "            fun: -2.0\n",
       "              x: [ 1.000e+00  1.000e+00  0.000e+00  0.000e+00]\n",
       "            nit: 0\n",
       "          lower:  residual: [ 1.000e+00  1.000e+00  0.000e+00  0.000e+00]\n",
       "                 marginals: [ 0.000e+00  0.000e+00  1.000e+00  1.000e+00]\n",
       "          upper:  residual: [       inf        inf        inf        inf]\n",
       "                 marginals: [ 0.000e+00  0.000e+00  0.000e+00  0.000e+00]\n",
       "          eqlin:  residual: [ 0.000e+00  0.000e+00]\n",
       "                 marginals: [-1.000e+00 -1.000e+00]\n",
       "        ineqlin:  residual: []\n",
       "                 marginals: []\n",
       " mip_node_count: 0\n",
       " mip_dual_bound: 0.0\n",
       "        mip_gap: 0.0"
      ]
     },
     "execution_count": 4,
     "metadata": {},
     "output_type": "execute_result"
    }
   ],
   "source": [
    "from scipy.optimize import linprog\n",
    "\n",
    "c = [-1., -1., 0., 0.]\n",
    "\n",
    "bounds = [\n",
    "    [0., None],\n",
    "    [0., None],\n",
    "    [0., None],\n",
    "    [0, None]\n",
    "]\n",
    "\n",
    "A = [\n",
    "    [1, 0, 1, 0],\n",
    "    [0, 1, 0, 1]\n",
    "]\n",
    "\n",
    "b = [1, 1]\n",
    "\n",
    "linprog(c, A_eq=A, b_eq=b, bounds=bounds)"
   ]
  }
 ],
 "metadata": {
  "kernelspec": {
   "display_name": ".venv",
   "language": "python",
   "name": "python3"
  },
  "language_info": {
   "codemirror_mode": {
    "name": "ipython",
    "version": 3
   },
   "file_extension": ".py",
   "mimetype": "text/x-python",
   "name": "python",
   "nbconvert_exporter": "python",
   "pygments_lexer": "ipython3",
   "version": "3.11.7"
  }
 },
 "nbformat": 4,
 "nbformat_minor": 2
}
