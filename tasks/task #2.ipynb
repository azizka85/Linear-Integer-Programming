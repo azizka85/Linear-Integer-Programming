{
 "cells": [
  {
   "cell_type": "markdown",
   "metadata": {},
   "source": [
    "# Задание #2"
   ]
  },
  {
   "cell_type": "code",
   "execution_count": 21,
   "metadata": {},
   "outputs": [],
   "source": [
    "import sys\n",
    "\n",
    "sys.path.append('..')"
   ]
  },
  {
   "cell_type": "markdown",
   "metadata": {},
   "source": [
    "минимизировать: $$-x_1 - 2x_2$$\n",
    "\n",
    "при условии: $$x_1 - 2x_2 \\geq 2$$\n",
    "             $$x_1 + x_2 \\leq 4$$\n",
    "             $$x_1, x_2 \\geq 0$$\n",
    "\n",
    "<center>\n",
    "    <h3>Стандартная форма</h3>\n",
    "</center>\n",
    "\n",
    "минимизировать: $$-x_1 - 2x_2$$\n",
    "\n",
    "при условии: $$x_1 - 2x_2 - x_3 = 2$$\n",
    "             $$x_1 + x_2 + x_4 = 4$$\n",
    "             $$x_1, x_2, x_3, x_4 \\geq 0$$\n",
    "\n",
    "<br/>             \n",
    "\n",
    "$$\n",
    "    A = \\begin{pmatrix}        \n",
    "        1 & -2 & -1 & 0 \\\\\n",
    "        1 & 1 & 0 & 1 \\\\\n",
    "    \\end{pmatrix},\n",
    "\n",
    "    b = \\begin{pmatrix} \n",
    "        2 \\\\\n",
    "        4 \\\\\n",
    "    \\end{pmatrix}\n",
    "$$\n",
    "\n",
    "Существует $C_{4}^2 = 6$ базовых допустимых решений"
   ]
  },
  {
   "cell_type": "code",
   "execution_count": 22,
   "metadata": {},
   "outputs": [
    {
     "name": "stdout",
     "output_type": "stream",
     "text": [
      "[0, 1]: k = 0, x[k] = -0.6666666666666667 отрицательна\n",
      "---\n",
      "\n",
      "[0, 2]: k = 0, x[k] = -4.0 отрицательна\n",
      "---\n",
      "\n",
      "[0, 3]: k = 0, x[k] = -2.0 отрицательна\n",
      "---\n",
      "\n",
      "[1, 2]: k = 0, x[k] = -4.0 отрицательна\n",
      "---\n",
      "\n",
      "[1, 3]: x = [1. 4.] является базовым допустим решением\n",
      "---\n",
      "\n",
      "[2, 3]: k = 0, x[k] = -2.0 отрицательна\n",
      "---\n",
      "\n"
     ]
    },
    {
     "data": {
      "text/plain": [
       "[array([1., 4.])]"
      ]
     },
     "execution_count": 22,
     "metadata": {},
     "output_type": "execute_result"
    }
   ],
   "source": [
    "from modules.feasable_set import generate_feasable_set\n",
    "\n",
    "A = [\n",
    "    [1., 1.],\n",
    "    [-2., 1.],\n",
    "    [-1., 0.],\n",
    "    [0., 1.]\n",
    "]\n",
    "\n",
    "b = [2., 4.]\n",
    "\n",
    "bfs = generate_feasable_set(A, b)\n",
    "\n",
    "bfs"
   ]
  },
  {
   "cell_type": "code",
   "execution_count": 23,
   "metadata": {},
   "outputs": [
    {
     "name": "stdout",
     "output_type": "stream",
     "text": [
      "Минимальное значение: -9.0\n"
     ]
    },
    {
     "data": {
      "text/plain": [
       "array([1., 4.])"
      ]
     },
     "execution_count": 23,
     "metadata": {},
     "output_type": "execute_result"
    }
   ],
   "source": [
    "from numpy import dot, array\n",
    "\n",
    "c = array([-1., -2.])\n",
    "\n",
    "min_val = 1\n",
    "x_min = None\n",
    "\n",
    "for x in bfs:\n",
    "    val = dot(c, x)\n",
    "\n",
    "    if val < min_val:\n",
    "        x_min = x\n",
    "        min_val = val\n",
    "\n",
    "print(f'Минимальное значение: {min_val}')\n",
    "\n",
    "x_min"
   ]
  },
  {
   "cell_type": "code",
   "execution_count": 24,
   "metadata": {},
   "outputs": [
    {
     "data": {
      "text/plain": [
       "        message: Optimization terminated successfully. (HiGHS Status 7: Optimal)\n",
       "        success: True\n",
       "         status: 0\n",
       "            fun: -4.666666666666667\n",
       "              x: [ 3.333e+00  6.667e-01]\n",
       "            nit: 0\n",
       "          lower:  residual: [ 3.333e+00  6.667e-01]\n",
       "                 marginals: [ 0.000e+00  0.000e+00]\n",
       "          upper:  residual: [       inf        inf]\n",
       "                 marginals: [ 0.000e+00  0.000e+00]\n",
       "          eqlin:  residual: []\n",
       "                 marginals: []\n",
       "        ineqlin:  residual: [ 0.000e+00  0.000e+00]\n",
       "                 marginals: [-3.333e-01 -1.333e+00]\n",
       " mip_node_count: 0\n",
       " mip_dual_bound: 0.0\n",
       "        mip_gap: 0.0"
      ]
     },
     "execution_count": 24,
     "metadata": {},
     "output_type": "execute_result"
    }
   ],
   "source": [
    "from scipy.optimize import linprog\n",
    "\n",
    "c = [-1., -2.]\n",
    "\n",
    "A = [\n",
    "    [-1., 2.],\n",
    "    [1., 1.]\n",
    "]\n",
    "\n",
    "b = [-2., 4.]\n",
    "\n",
    "bounds = [\n",
    "    [0., None],\n",
    "    [0., None]\n",
    "]\n",
    "\n",
    "linprog(c, A, b, bounds=bounds)"
   ]
  }
 ],
 "metadata": {
  "kernelspec": {
   "display_name": ".venv",
   "language": "python",
   "name": "python3"
  },
  "language_info": {
   "codemirror_mode": {
    "name": "ipython",
    "version": 3
   },
   "file_extension": ".py",
   "mimetype": "text/x-python",
   "name": "python",
   "nbconvert_exporter": "python",
   "pygments_lexer": "ipython3",
   "version": "3.11.7"
  }
 },
 "nbformat": 4,
 "nbformat_minor": 2
}
