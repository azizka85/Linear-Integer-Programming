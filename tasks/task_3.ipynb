{
 "cells": [
  {
   "cell_type": "code",
   "execution_count": null,
   "metadata": {},
   "outputs": [],
   "source": [
    "import sys\n",
    "\n",
    "sys.path.append('..')"
   ]
  },
  {
   "cell_type": "markdown",
   "metadata": {},
   "source": [
    "минимизировать: $$2x_1 - 3x_2+x_3$$\n",
    "\n",
    "при условии: $$x_1 +3x_2 +x_3\\geq 12$$\n",
    "             $$-1x_1 + x_2 +2x_3\\geq 6$$\n",
    "             $$-x_1+3_x2\\geq 9$$\n",
    "             $$0 \\leq x_1$$\n",
    "             $$0 \\leq x_2$$\n",
    "             $$0 \\leq x_3$$"
   ]
  }
 ],
 "metadata": {
  "language_info": {
   "name": "python"
  }
 },
 "nbformat": 4,
 "nbformat_minor": 2
}
