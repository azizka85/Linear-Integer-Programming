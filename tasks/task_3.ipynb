{
 "cells": [
  {
   "cell_type": "code",
   "execution_count": 37,
   "metadata": {},
   "outputs": [],
   "source": [
    "import sys\n",
    "\n",
    "sys.path.append('..')"
   ]
  },
  {
   "cell_type": "markdown",
   "metadata": {},
   "source": [
    "минимизировать: $$2x_1 - 3x_2+x_3$$\n",
    "\n",
    "при условии: $$x_1 +3x_2 +x_3\\geq 12$$\n",
    "             $$-1x_1 + x_2 +2x_3\\geq 6$$\n",
    "             $$-x_1+3x_2\\geq 9$$\n",
    "             $$x_1, x_2, x_3  \\geq 0$$\n",
    "\n",
    "Стандартная форма:\n",
    "$$x_1 +3x_2 +x_3+x_4 =12$$\n",
    "$$-x_1 + x_2 +2x_3+x_4= 6$$\n",
    "$$-x_1+3x_2 +x_4= 9$$\n",
    "\n",
    "$$x_1, x_2, x_3, x_4 \\geq 0$$"
   ]
  },
  {
   "cell_type": "code",
   "execution_count": 41,
   "metadata": {},
   "outputs": [
    {
     "name": "stdout",
     "output_type": "stream",
     "text": [
      "Решение: [1.5 2.7 2.4 0. ]\n",
      "Целевая функция: -2.6999999999999997\n"
     ]
    }
   ],
   "source": [
    "from numpy import array\n",
    "from modules.optimize import simplex_method\n",
    "\n",
    "A = array([\n",
    "    [1.,3.,1.,1],\n",
    "    [-1.,1.,2.,1.],\n",
    "    [-1.,3.,1.,1]\n",
    "])\n",
    "\n",
    "b = array([12., 6., 9.])\n",
    "c = array([2.,-3.,1.,0])\n",
    "\n",
    "x, obj, dir, iter, flag = simplex_method(c, A, b, [0, 1, 2])\n",
    "\n",
    "print(f'Решение: {x}')\n",
    "print(f'Целевая функция: {obj}')"
   ]
  }
 ],
 "metadata": {
  "kernelspec": {
   "display_name": ".venv",
   "language": "python",
   "name": "python3"
  },
  "language_info": {
   "codemirror_mode": {
    "name": "ipython",
    "version": 3
   },
   "file_extension": ".py",
   "mimetype": "text/x-python",
   "name": "python",
   "nbconvert_exporter": "python",
   "pygments_lexer": "ipython3",
   "version": "3.10.7"
  }
 },
 "nbformat": 4,
 "nbformat_minor": 2
}
