{
 "cells": [
  {
   "cell_type": "code",
   "execution_count": 8,
   "metadata": {},
   "outputs": [],
   "source": [
    "import sys\n",
    "\n",
    "sys.path.append('..')"
   ]
  },
  {
   "cell_type": "markdown",
   "metadata": {},
   "source": [
    "минимизировать: $$2x_1 - 3x_2+x_3$$\n",
    "\n",
    "при условии: $$x_1 +3x_2 +x_3\\geq 12$$\n",
    "             $$-1x_1 + x_2 +2x_3\\geq 6$$\n",
    "             $$-x_1+3_x2\\geq 9$$\n",
    "             $$0 \\leq x_1$$\n",
    "             $$0 \\leq x_2$$\n",
    "             $$0 \\leq x_3$$"
   ]
  },
  {
   "cell_type": "code",
   "execution_count": 9,
   "metadata": {},
   "outputs": [
    {
     "ename": "ModuleNotFoundError",
     "evalue": "No module named 'modules.matrix'",
     "output_type": "error",
     "traceback": [
      "\u001b[1;31m---------------------------------------------------------------------------\u001b[0m",
      "\u001b[1;31mModuleNotFoundError\u001b[0m                       Traceback (most recent call last)",
      "Cell \u001b[1;32mIn[9], line 2\u001b[0m\n\u001b[0;32m      1\u001b[0m \u001b[38;5;28;01mfrom\u001b[39;00m \u001b[38;5;21;01mnumpy\u001b[39;00m \u001b[38;5;28;01mimport\u001b[39;00m array\n\u001b[1;32m----> 2\u001b[0m \u001b[38;5;28;01mfrom\u001b[39;00m \u001b[38;5;21;01mmodules\u001b[39;00m\u001b[38;5;21;01m.\u001b[39;00m\u001b[38;5;21;01moptimize\u001b[39;00m \u001b[38;5;28;01mimport\u001b[39;00m simplex_method\n\u001b[0;32m      4\u001b[0m A \u001b[38;5;241m=\u001b[39m array([\n\u001b[0;32m      5\u001b[0m     [\u001b[38;5;241m1.\u001b[39m, \u001b[38;5;241m0.\u001b[39m, \u001b[38;5;241m1.\u001b[39m, \u001b[38;5;241m0.\u001b[39m],\n\u001b[0;32m      6\u001b[0m     [\u001b[38;5;241m0.\u001b[39m, \u001b[38;5;241m1.\u001b[39m, \u001b[38;5;241m0.\u001b[39m, \u001b[38;5;241m1.\u001b[39m]\n\u001b[0;32m      7\u001b[0m ])\n\u001b[0;32m      9\u001b[0m b \u001b[38;5;241m=\u001b[39m array([\u001b[38;5;241m1.\u001b[39m, \u001b[38;5;241m1.\u001b[39m])\n",
      "File \u001b[1;32mc:\\Users\\GVINBLADE\\Desktop\\py\\Linear-Integer-Programming\\tasks\\..\\modules\\optimize.py:4\u001b[0m\n\u001b[0;32m      2\u001b[0m \u001b[38;5;28;01mfrom\u001b[39;00m \u001b[38;5;21;01mnumpy\u001b[39;00m \u001b[38;5;28;01mimport\u001b[39;00m ndarray, double, zeros, concatenate, dot, where, \u001b[38;5;28mabs\u001b[39m\n\u001b[0;32m      3\u001b[0m \u001b[38;5;28;01mfrom\u001b[39;00m \u001b[38;5;21;01mnumpy\u001b[39;00m\u001b[38;5;21;01m.\u001b[39;00m\u001b[38;5;21;01mlinalg\u001b[39;00m \u001b[38;5;28;01mimport\u001b[39;00m solve\n\u001b[1;32m----> 4\u001b[0m \u001b[38;5;28;01mfrom\u001b[39;00m \u001b[38;5;21;01mmodules\u001b[39;00m\u001b[38;5;21;01m.\u001b[39;00m\u001b[38;5;21;01mmatrix\u001b[39;00m \u001b[38;5;28;01mimport\u001b[39;00m exclude_columns, sort_vector\n\u001b[0;32m      6\u001b[0m epsilon \u001b[38;5;241m=\u001b[39m \u001b[38;5;241m10\u001b[39m\u001b[38;5;241m*\u001b[39m\u001b[38;5;241m*\u001b[39m\u001b[38;5;241m-\u001b[39m\u001b[38;5;241m9\u001b[39m\n\u001b[0;32m      8\u001b[0m \u001b[38;5;28;01mdef\u001b[39;00m \u001b[38;5;21msimplex_method\u001b[39m(\n\u001b[0;32m      9\u001b[0m     c: ndarray[double], \n\u001b[0;32m     10\u001b[0m     A: ndarray[double, double], b: ndarray[double],\n\u001b[0;32m     11\u001b[0m     B_set: List[\u001b[38;5;28mint\u001b[39m]\n\u001b[0;32m     12\u001b[0m ) \u001b[38;5;241m-\u001b[39m\u001b[38;5;241m>\u001b[39m Tuple[ndarray[double], double, ndarray[double], \u001b[38;5;28mint\u001b[39m, \u001b[38;5;28mbool\u001b[39m]:\n",
      "\u001b[1;31mModuleNotFoundError\u001b[0m: No module named 'modules.matrix'"
     ]
    }
   ],
   "source": [
    "from numpy import array\n",
    "from modules.optimize import simplex_method\n",
    "\n",
    "A = array([\n",
    "    [1., 3., 1., 0.],\n",
    "    [-1., 1., 0., 2.]\n",
    "])\n",
    "\n",
    "b = array([12., 6.])\n",
    "c = array([-1., -1., 0., 0.])\n",
    "\n",
    "x, obj, dir, iter, flag = simplex_method(c, A, b, [2, 3])\n",
    "\n",
    "print(f'Решение: {x}')\n",
    "print(f'Целевая функция: {obj}')\n",
    "print(f'Направление рецессии: {dir}')\n",
    "print(f'Количество итерации: {iter}')\n",
    "print(f'Задача не ограничена: {flag}')"
   ]
  }
 ],
 "metadata": {
  "kernelspec": {
   "display_name": ".venv",
   "language": "python",
   "name": "python3"
  },
  "language_info": {
   "codemirror_mode": {
    "name": "ipython",
    "version": 3
   },
   "file_extension": ".py",
   "mimetype": "text/x-python",
   "name": "python",
   "nbconvert_exporter": "python",
   "pygments_lexer": "ipython3",
   "version": "3.10.7"
  }
 },
 "nbformat": 4,
 "nbformat_minor": 2
}
