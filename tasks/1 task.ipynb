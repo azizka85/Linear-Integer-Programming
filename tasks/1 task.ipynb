{
 "cells": [
  {
   "cell_type": "markdown",
   "metadata": {},
   "source": [
    "# Задача №1"
   ]
  },
  {
   "cell_type": "markdown",
   "metadata": {},
   "source": [
    "минимизировать: $$c^T x$$\n",
    "\n",
    "при условии: $$Ax = b$$\n",
    "             $$x \\geq 0$$\n"
   ]
  },
  {
   "cell_type": "code",
   "execution_count": 1,
   "metadata": {},
   "outputs": [
    {
     "data": {
      "text/plain": [
       "        message: Optimization terminated successfully. (HiGHS Status 7: Optimal)\n",
       "        success: True\n",
       "         status: 0\n",
       "            fun: 65.0\n",
       "              x: [ 1.000e+01  0.000e+00  2.500e+01  0.000e+00  0.000e+00\n",
       "                   1.100e+01  4.000e+00  1.500e+01  0.000e+00]\n",
       "            nit: 5\n",
       "          lower:  residual: [ 1.000e+01  0.000e+00  2.500e+01  0.000e+00\n",
       "                              0.000e+00  1.100e+01  4.000e+00  1.500e+01\n",
       "                              0.000e+00]\n",
       "                 marginals: [ 0.000e+00  1.000e+00  0.000e+00  5.000e+00\n",
       "                              1.000e+00  0.000e+00  0.000e+00  0.000e+00\n",
       "                              1.000e+00]\n",
       "          upper:  residual: [       inf        inf        inf        inf\n",
       "                                    inf        inf        inf        inf\n",
       "                                    inf]\n",
       "                 marginals: [ 0.000e+00  0.000e+00  0.000e+00  0.000e+00\n",
       "                              0.000e+00  0.000e+00  0.000e+00  0.000e+00\n",
       "                              0.000e+00]\n",
       "          eqlin:  residual: []\n",
       "                 marginals: []\n",
       "        ineqlin:  residual: [ 0.000e+00  0.000e+00  0.000e+00  0.000e+00\n",
       "                              0.000e+00  0.000e+00]\n",
       "                 marginals: [-0.000e+00 -1.000e+00 -3.000e+00 -2.000e+00\n",
       "                             -0.000e+00 -3.000e+00]\n",
       " mip_node_count: 0\n",
       " mip_dual_bound: 0.0\n",
       "        mip_gap: 0.0"
      ]
     },
     "execution_count": 1,
     "metadata": {},
     "output_type": "execute_result"
    }
   ],
   "source": [
    "from scipy.optimize import linprog\n",
    "\n",
    "c = [1, 4, 1, 3, 1, 1, 1, 1, 3]\n",
    "\n",
    "A = [\n",
    "    [1, 1, 0, 0, 0, 0, 0, 0, 0],\n",
    "    [-1, 0, 1, -1, 0, 0, 0, -1, 0],\n",
    "    [0, -1, 0, 1, 1, -1, 0, 0, 0],\n",
    "    [0, 0, -1, 0, 0, 1, 1, 0, -1],\n",
    "    [0, 0, 0, 0, 0, 0, 0, 1, 1],\n",
    "    [0, 0, 0, 0, -1, 0, -1, 0, 0]\n",
    "]\n",
    "\n",
    "b = [10, 0, -11, -10, 15, -4]\n",
    "\n",
    "Aeq = None\n",
    "\n",
    "beq = None\n",
    "\n",
    "bounds = [(0, None), (0, None), (0, None), (0, None), (0, None), (0, None), (0, None), (0, None), (0, None)]\n",
    "\n",
    "linprog(c, A_ub=A, b_ub=b, A_eq=Aeq, b_eq=beq, bounds=bounds, method='highs')"
   ]
  }
 ],
 "metadata": {
  "kernelspec": {
   "display_name": ".venv",
   "language": "python",
   "name": "python3"
  },
  "language_info": {
   "codemirror_mode": {
    "name": "ipython",
    "version": 3
   },
   "file_extension": ".py",
   "mimetype": "text/x-python",
   "name": "python",
   "nbconvert_exporter": "python",
   "pygments_lexer": "ipython3",
   "version": "3.11.7"
  }
 },
 "nbformat": 4,
 "nbformat_minor": 2
}
