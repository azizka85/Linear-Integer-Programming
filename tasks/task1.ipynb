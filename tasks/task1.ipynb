{
 "cells": [
  {
   "cell_type": "code",
   "execution_count": 4,
   "id": "f666ea40",
   "metadata": {},
   "outputs": [
    {
     "name": "stdout",
     "output_type": "stream",
     "text": [
      "Максимальное значение z: 55.0\n",
      "Оптимальные значения: x12 = 30.0 , x13 = 25.0\n"
     ]
    }
   ],
   "source": [
    "from scipy.optimize import linprog\n",
    "\n",
    "# Определите коэффициенты целевой функции\n",
    "c = [-1, -1, 0, 0, 0, 0, 0, 0, 0, 0, 0]\n",
    "\n",
    "# Определите матрицу A для неравенств Ax <= b\n",
    "A = [[-1, 0, 1, 0, 0, 0, 0, 0, 0, 0, 0],\n",
    "     [0, -1, 0, 0, 0, 0, 0, 0, 0, 0, 0],\n",
    "     [0, 0, -1, 1, 0, 1, 0, 0, 0, 0, 0],\n",
    "     [0, 0, 0, -1, 1, 0, 0, 0, 0, 0, 0],\n",
    "     [0, 0, 0, 0, -1, -1, 1, 1, 0, 0, 0],\n",
    "     [0, 0, 0, 0, 0, 0, -1, 0, 1, 0, 0],\n",
    "     [0, 0, 0, 0, 0, 0, 0, -1, 0, 1, 1]]\n",
    "\n",
    "# Определите вектор b для неравенств Ax <= b\n",
    "b = [0, 0, 0, 0, 0, 0, 0]\n",
    "\n",
    "# Определите границы для переменных\n",
    "x_bounds = [(0, 30), (0, 25), (0, 20), (0, 45), (0, 35), (None, None), (0, 25), (None, None), (None, None), (None, None), (None, None)]\n",
    "\n",
    "# Решите задачу линейного программирования\n",
    "res = linprog(c, A_ub=A, b_ub=b, bounds=x_bounds, method='highs')\n",
    "\n",
    "# Выведите результаты\n",
    "print(\"Максимальное значение z:\", -res.fun)\n",
    "print(\"Оптимальные значения: x12 =\", res.x[0], \", x13 =\", res.x[1])\n"
   ]
  },
  {
   "cell_type": "code",
   "execution_count": null,
   "id": "1792b510",
   "metadata": {},
   "outputs": [],
   "source": []
  }
 ],
 "metadata": {
  "kernelspec": {
   "display_name": "Python 3 (ipykernel)",
   "language": "python",
   "name": "python3"
  },
  "language_info": {
   "codemirror_mode": {
    "name": "ipython",
    "version": 3
   },
   "file_extension": ".py",
   "mimetype": "text/x-python",
   "name": "python",
   "nbconvert_exporter": "python",
   "pygments_lexer": "ipython3",
   "version": "3.11.4"
  }
 },
 "nbformat": 4,
 "nbformat_minor": 5
}
