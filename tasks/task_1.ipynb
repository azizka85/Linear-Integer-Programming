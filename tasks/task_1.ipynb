{
 "cells": [
  {
   "cell_type": "markdown",
   "metadata": {},
   "source": [
    "# Задание №1"
   ]
  },
  {
   "cell_type": "markdown",
   "metadata": {},
   "source": [
    "минимизировать: $$-x_1 - 2x_2$$\n",
    "\n",
    "при условии: $$x_1 - x_2 + x_3 \\leq 15$$\n",
    "             $$2x_1 + 3x_2 + 6x_3 \\leq 30$$\n",
    "             $$2x_1 + x_2 = 30$$\n",
    "             $$0 \\leq x_1 \\leq 15$$\n",
    "             $$0 \\leq x_2 \\leq 10$$\n",
    "             $$0 \\leq x_3 \\leq 5$$"
   ]
  },
  {
   "cell_type": "code",
   "execution_count": 2,
   "metadata": {},
   "outputs": [
    {
     "data": {
      "text/plain": [
       "        message: Optimization terminated successfully. (HiGHS Status 7: Optimal)\n",
       "        success: True\n",
       "         status: 0\n",
       "            fun: -4.666666666666667\n",
       "              x: [ 3.333e+00  6.667e-01]\n",
       "            nit: 0\n",
       "          lower:  residual: [ 3.333e+00  6.667e-01]\n",
       "                 marginals: [ 0.000e+00  0.000e+00]\n",
       "          upper:  residual: [       inf        inf]\n",
       "                 marginals: [ 0.000e+00  0.000e+00]\n",
       "          eqlin:  residual: []\n",
       "                 marginals: []\n",
       "        ineqlin:  residual: [ 0.000e+00  0.000e+00]\n",
       "                 marginals: [-3.333e-01 -1.333e+00]\n",
       " mip_node_count: 0\n",
       " mip_dual_bound: 0.0\n",
       "        mip_gap: 0.0"
      ]
     },
     "execution_count": 2,
     "metadata": {},
     "output_type": "execute_result"
    }
   ],
   "source": [
    "from scipy.optimize import linprog\n",
    "\n",
    "c = [-1, -2]\n",
    "\n",
    "A = [\n",
    "    [-1, 2],\n",
    "    [1, 1]\n",
    "]\n",
    "\n",
    "b = [-2, 4]\n",
    "\n",
    "bounds = [\n",
    "    [0, None],\n",
    "    [0, None]\n",
    "]\n",
    "\n",
    "linprog(c, A, b, bounds=bounds)"
   ]
  }
 ],
 "metadata": {
  "kernelspec": {
   "display_name": ".venv",
   "language": "python",
   "name": "python3"
  },
  "language_info": {
   "codemirror_mode": {
    "name": "ipython",
    "version": 3
   },
   "file_extension": ".py",
   "mimetype": "text/x-python",
   "name": "python",
   "nbconvert_exporter": "python",
   "pygments_lexer": "ipython3",
   "version": "3.10.7"
  }
 },
 "nbformat": 4,
 "nbformat_minor": 2
}
