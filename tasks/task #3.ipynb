{
 "cells": [
  {
   "cell_type": "markdown",
   "metadata": {},
   "source": [
    "# Симплекс метод"
   ]
  },
  {
   "cell_type": "code",
   "execution_count": 2,
   "metadata": {},
   "outputs": [],
   "source": [
    "import sys\n",
    "\n",
    "sys.path.append('..')"
   ]
  },
  {
   "cell_type": "markdown",
   "metadata": {},
   "source": [
    "\n",
    "минимизировать: $$-4x_1 - 3x_2 - 2x_3$$\n",
    "\n",
    "при условии: $$2x_1 - 3x_2 + 2x_3 \\leq 6$$\n",
    "             $$-x_1 + x_2 + x_3 \\leq 5$$\n",
    "             $$x_1, x_2 , x_3 \\geq 0 $$ \n",
    "\n",
    "<center>\n",
    "    <h3>Стандартная форма</h3>\n",
    "</center>\n",
    "\n",
    "минимизировать: $$-4x_1 - 3x_2 - 2x_3$$\n",
    "\n",
    "при условии:  $$2x_1 - 3x_2 + 2x_3 + x_4 = 6$$\n",
    "             $$-x_1 + x_2 + x_3 + x_5 =5$$\n",
    "             $$x_1, x_2 , x_3, x_4, x_5 \\geq 0 $$ \n",
    "\n",
    "<br/>             \n",
    "\n",
    "$$\n",
    "    A = \\begin{pmatrix}        \n",
    "        2 &-3 & 2 & 1 & 0 \\\\\n",
    "        -1 & 1 & 1 & 0 & 1 \\\\\n",
    "    \\end{pmatrix},\n",
    "\n",
    "    b = \\begin{pmatrix} \n",
    "        6 \\\\\n",
    "        5 \\\\\n",
    "    \\end{pmatrix}\n",
    "$$"
   ]
  },
  {
   "cell_type": "code",
   "execution_count": 7,
   "metadata": {},
   "outputs": [
    {
     "name": "stdout",
     "output_type": "stream",
     "text": [
      "Решение: [3. 8. 0. 0. 0.]\n",
      "Целевая функция: -12.0\n",
      "Направление рецессии: [1.5 0.5 0.  1.  0. ]\n",
      "Количество итерации: 1\n",
      "Задача не ограничена: True\n"
     ]
    }
   ],
   "source": [
    "from numpy import array\n",
    "from modules.optimize import simplex_method\n",
    "\n",
    "A = array([\n",
    "    [2., -3., 2., 1., 0.],\n",
    "    [-1., 1., 1., 0., 1.]\n",
    "])\n",
    "\n",
    "b = array([6., 5.])\n",
    "c = array([-4., -3., -2., 0., 0.])\n",
    "\n",
    "x, obj, dir, iter, flag = simplex_method(c, A, b, [3, 4])\n",
    "\n",
    "print(f'Решение: {x}')\n",
    "print(f'Целевая функция: {obj}')\n",
    "print(f'Направление рецессии: {dir}')\n",
    "print(f'Количество итерации: {iter}')\n",
    "print(f'Задача не ограничена: {flag}')"
   ]
  }
 ],
 "metadata": {
  "kernelspec": {
   "display_name": ".venv",
   "language": "python",
   "name": "python3"
  },
  "language_info": {
   "codemirror_mode": {
    "name": "ipython",
    "version": 3
   },
   "file_extension": ".py",
   "mimetype": "text/x-python",
   "name": "python",
   "nbconvert_exporter": "python",
   "pygments_lexer": "ipython3",
   "version": "3.11.7"
  }
 },
 "nbformat": 4,
 "nbformat_minor": 2
}
