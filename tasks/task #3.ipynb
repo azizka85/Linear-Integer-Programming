{
 "cells": [
  {
   "cell_type": "markdown",
   "metadata": {},
   "source": [
    "# Задание 3\n",
    "\n"
   ]
  },
  {
   "cell_type": "code",
   "execution_count": 96,
   "metadata": {},
   "outputs": [
    {
     "ename": "ModuleNotFoundError",
     "evalue": "No module named 'your_package'",
     "output_type": "error",
     "traceback": [
      "\u001b[1;31m---------------------------------------------------------------------------\u001b[0m",
      "\u001b[1;31mModuleNotFoundError\u001b[0m                       Traceback (most recent call last)",
      "Cell \u001b[1;32mIn[96], line 2\u001b[0m\n\u001b[0;32m      1\u001b[0m \u001b[38;5;28;01mfrom\u001b[39;00m \u001b[38;5;21;01mnumpy\u001b[39;00m \u001b[38;5;28;01mimport\u001b[39;00m array\n\u001b[1;32m----> 2\u001b[0m \u001b[38;5;28;01mfrom\u001b[39;00m \u001b[38;5;21;01myour_package\u001b[39;00m\u001b[38;5;21;01m.\u001b[39;00m\u001b[38;5;21;01mmodules\u001b[39;00m\u001b[38;5;21;01m.\u001b[39;00m\u001b[38;5;21;01moptimize\u001b[39;00m \u001b[38;5;28;01mimport\u001b[39;00m simplex_method\n",
      "\u001b[1;31mModuleNotFoundError\u001b[0m: No module named 'your_package'"
     ]
    }
   ],
   "source": [
    "from numpy import array\n",
    "from your_package.modules.optimize import simplex_method"
   ]
  },
  {
   "cell_type": "markdown",
   "metadata": {},
   "source": [
    "\n",
    "\n",
    "минимизировать: $$2x_1 + 2x_2 + 3x_3 + x_4 + 4x_5$$\n",
    "\n",
    "при условии: $$3x_1 + 7x_2 + 2x_3 + 3x_4 + 2x_5 \\leq 40$$ \n",
    "             $$x_1 \\geq 0, x_2 \\geq 0, x_3 \\geq, x_4 \\geq 0, x_5 \\geq 0$$\n",
    "\n"
   ]
  },
  {
   "cell_type": "code",
   "execution_count": null,
   "metadata": {},
   "outputs": [
    {
     "ename": "ModuleNotFoundError",
     "evalue": "No module named 'modules'",
     "output_type": "error",
     "traceback": [
      "\u001b[1;31m---------------------------------------------------------------------------\u001b[0m",
      "\u001b[1;31mModuleNotFoundError\u001b[0m                       Traceback (most recent call last)",
      "Cell \u001b[1;32mIn[95], line 2\u001b[0m\n\u001b[0;32m      1\u001b[0m \u001b[38;5;28;01mfrom\u001b[39;00m \u001b[38;5;21;01mscipy\u001b[39;00m\u001b[38;5;21;01m.\u001b[39;00m\u001b[38;5;21;01moptimize\u001b[39;00m \u001b[38;5;28;01mimport\u001b[39;00m linprog\n\u001b[1;32m----> 2\u001b[0m \u001b[38;5;28;01mfrom\u001b[39;00m \u001b[38;5;21;01mmodules\u001b[39;00m\u001b[38;5;21;01m.\u001b[39;00m\u001b[38;5;21;01mfeasable_set\u001b[39;00m \u001b[38;5;28;01mimport\u001b[39;00m generate_feasable_set\n\u001b[0;32m      3\u001b[0m \u001b[38;5;28;01mfrom\u001b[39;00m \u001b[38;5;21;01mnumpy\u001b[39;00m \u001b[38;5;28;01mimport\u001b[39;00m dot, array\n\u001b[0;32m      5\u001b[0m A \u001b[38;5;241m=\u001b[39m [\n\u001b[0;32m      6\u001b[0m     [\u001b[38;5;241m1.\u001b[39m, \u001b[38;5;241m0.\u001b[39m],\n\u001b[0;32m      7\u001b[0m     [\u001b[38;5;241m0.\u001b[39m, \u001b[38;5;241m1.\u001b[39m],\n\u001b[0;32m      8\u001b[0m     [\u001b[38;5;241m1.\u001b[39m, \u001b[38;5;241m0.\u001b[39m],\n\u001b[0;32m      9\u001b[0m     [\u001b[38;5;241m0.\u001b[39m, \u001b[38;5;241m1.\u001b[39m]\n\u001b[0;32m     10\u001b[0m ]\n",
      "\u001b[1;31mModuleNotFoundError\u001b[0m: No module named 'modules'"
     ]
    }
   ],
   "source": [
    "from scipy.optimize import linprog\n",
    "from modules.feasable_set import generate_feasable_set\n",
    "from numpy import dot, array\n",
    "\n",
    "A = [\n",
    "    [1., 0.],\n",
    "    [0., 1.],\n",
    "    [1., 0.],\n",
    "    [0., 1.]\n",
    "]\n",
    "\n",
    "b = [1., 1.]\n",
    "\n",
    "bfs = generate_feasable_set(A, b)\n",
    "\n",
    "c = array([-1., -1.])\n",
    "\n",
    "# Solve the linear programming problem\n",
    "result = linprog(c, A_eq=A, b_eq=b, bounds=[(0, None), (0, None), (0, None), (0, None)], method='simplex')\n",
    "\n",
    "# Display the result\n",
    "print(f'Minimum value obtained by linprog: {result.fun}')\n",
    "print(f'Solution obtained by linprog: {result.x}')\n",
    "\n",
    "# Manually search for the minimum value among the feasible solutions\n",
    "min_val = float('inf')\n",
    "x_min = None\n",
    "\n",
    "for x in bfs:\n",
    "    val = dot(c, x)\n",
    "\n",
    "    if val < min_val:\n",
    "        x_min = x\n",
    "        min_val = val\n",
    "\n",
    "print(f'Minimum value obtained manually: {min_val}')\n",
    "print(f'Solution obtained manually: {x_min}')\n"
   ]
  },
  {
   "cell_type": "code",
   "execution_count": null,
   "metadata": {},
   "outputs": [],
   "source": []
  }
 ],
 "metadata": {
  "kernelspec": {
   "display_name": ".venv",
   "language": "python",
   "name": "python3"
  },
  "language_info": {
   "codemirror_mode": {
    "name": "ipython",
    "version": 3
   },
   "file_extension": ".py",
   "mimetype": "text/x-python",
   "name": "python",
   "nbconvert_exporter": "python",
   "pygments_lexer": "ipython3",
   "version": "3.11.7"
  }
 },
 "nbformat": 4,
 "nbformat_minor": 2
}
