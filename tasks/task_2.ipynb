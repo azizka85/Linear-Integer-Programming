{
 "cells": [
  {
   "cell_type": "markdown",
   "metadata": {},
   "source": [
    "# Задание 2\n",
    "\n",
    "минимизировать: $$-5x_1 + 4x_2 - 6x_{31} + 6x_{32}$$\n",
    "\n",
    "при условии: $$-x_1 + x_2 + s_1 = -7$$\n",
    "             $$2x_2 - x_{31} + x_{32} - s_2 = 2$$\n",
    "             $$x_1 + 2x_{31} - 2x_{32} = 7$$\n",
    "             $$x_1 \\geq 0, x_2 \\geq 0, x_{31} \\geq 0, x_{32} \\geq 0, s_1 \\geq 0, s_2 \\geq 0$$\n",
    "             \n",
    "                        \n",
    "Стандартная форма: $$-x_1 + x_2 + s_1 = -7$$\n",
    "             $$2x_2 - x_{31} + x_{32} - s_2 = 2$$\n",
    "             $$x_1 + 2x_{31} - 2x_{32} = 7$$\n",
    "             $$x_1 \\geq 0, x_2 \\geq 0, x_{31} \\geq 0, x_{32} \\geq 0, s_1 \\geq 0, s_2 \\geq 0$$\n",
    "\n",
    "       "
   ]
  },
  {
   "cell_type": "code",
   "execution_count": 10,
   "metadata": {},
   "outputs": [],
   "source": [
    "import sys\n",
    "\n",
    "sys.path.append('..')"
   ]
  },
  {
   "cell_type": "code",
   "execution_count": 11,
   "metadata": {},
   "outputs": [
    {
     "name": "stdout",
     "output_type": "stream",
     "text": [
      "[0, 1]: x = [1. 1.] является базовым допустим решением\n",
      "---\n",
      "\n",
      "[0, 2]:\n",
      "Матрица B = [[1. 0.]\n",
      " [1. 0.]] вырождена\n",
      "---\n",
      "\n",
      "[0, 3]: x = [1. 1.] является базовым допустим решением\n",
      "---\n",
      "\n",
      "[1, 2]: x = [1. 1.] является базовым допустим решением\n",
      "---\n",
      "\n",
      "[1, 3]:\n",
      "Матрица B = [[0. 1.]\n",
      " [0. 1.]] вырождена\n",
      "---\n",
      "\n",
      "[2, 3]: x = [1. 1.] является базовым допустим решением\n",
      "---\n",
      "\n"
     ]
    },
    {
     "data": {
      "text/plain": [
       "[array([1., 1.]), array([1., 1.]), array([1., 1.]), array([1., 1.])]"
      ]
     },
     "execution_count": 11,
     "metadata": {},
     "output_type": "execute_result"
    }
   ],
   "source": [
    "from modules.feasable_set import generate_feasable_set\n",
    "\n",
    "A = [\n",
    "    [1., 0.],\n",
    "    [0., 1.],\n",
    "    [1., 0.],\n",
    "    [0., 1.]\n",
    "]\n",
    "\n",
    "b = [1., 1.]\n",
    "\n",
    "bfs = generate_feasable_set(A, b)\n",
    "\n",
    "bfs"
   ]
  },
  {
   "cell_type": "code",
   "execution_count": 14,
   "metadata": {},
   "outputs": [
    {
     "ename": "ValueError",
     "evalue": "shapes (4,) and (2,) not aligned: 4 (dim 0) != 2 (dim 0)",
     "output_type": "error",
     "traceback": [
      "\u001b[1;31m---------------------------------------------------------------------------\u001b[0m",
      "\u001b[1;31mValueError\u001b[0m                                Traceback (most recent call last)",
      "Cell \u001b[1;32mIn[14], line 10\u001b[0m\n\u001b[0;32m      7\u001b[0m x_min \u001b[38;5;241m=\u001b[39m \u001b[38;5;241m-\u001b[39m\u001b[38;5;241m1\u001b[39m\n\u001b[0;32m      9\u001b[0m \u001b[38;5;28;01mfor\u001b[39;00m x \u001b[38;5;129;01min\u001b[39;00m bfs:\n\u001b[1;32m---> 10\u001b[0m     val \u001b[38;5;241m=\u001b[39m \u001b[43mdot\u001b[49m\u001b[43m(\u001b[49m\u001b[43mc\u001b[49m\u001b[43m,\u001b[49m\u001b[43m \u001b[49m\u001b[43mx\u001b[49m\u001b[43m)\u001b[49m\n\u001b[0;32m     12\u001b[0m     \u001b[38;5;28;01mif\u001b[39;00m val \u001b[38;5;241m<\u001b[39m min_val:\n\u001b[0;32m     13\u001b[0m         x_min \u001b[38;5;241m=\u001b[39m x\n",
      "\u001b[1;31mValueError\u001b[0m: shapes (4,) and (2,) not aligned: 4 (dim 0) != 2 (dim 0)"
     ]
    }
   ],
   "source": [
    "from numpy import dot, array\n",
    "\n",
    "c = array([-1., -1., 0., 0.])\n",
    "\n",
    "\n",
    "min_val = 1\n",
    "x_min = -1\n",
    "\n",
    "for x in bfs:\n",
    "    val = dot(c, x)\n",
    "\n",
    "    if val < min_val:\n",
    "        x_min = x\n",
    "        min_val = val\n",
    "\n",
    "print(f'Минимальное значение: {min_val}')\n",
    "\n",
    "x_min"
   ]
  },
  {
   "cell_type": "code",
   "execution_count": null,
   "metadata": {},
   "outputs": [
    {
     "data": {
      "text/plain": [
       "        message: Optimization terminated successfully. (HiGHS Status 7: Optimal)\n",
       "        success: True\n",
       "         status: 0\n",
       "            fun: -2.0\n",
       "              x: [ 1.000e+00  1.000e+00]\n",
       "            nit: 0\n",
       "          lower:  residual: [ 1.000e+00  1.000e+00]\n",
       "                 marginals: [ 0.000e+00  0.000e+00]\n",
       "          upper:  residual: [ 0.000e+00  0.000e+00]\n",
       "                 marginals: [-1.000e+00 -1.000e+00]\n",
       "          eqlin:  residual: []\n",
       "                 marginals: []\n",
       "        ineqlin:  residual: []\n",
       "                 marginals: []\n",
       " mip_node_count: 0\n",
       " mip_dual_bound: 0.0\n",
       "        mip_gap: 0.0"
      ]
     },
     "execution_count": 61,
     "metadata": {},
     "output_type": "execute_result"
    }
   ],
   "source": [
    "from scipy.optimize import linprog\n",
    "\n",
    "c = [-1., -1.]\n",
    "\n",
    "bounds = [\n",
    "    [0., 1.],\n",
    "    [0., 1.]\n",
    "]\n",
    "\n",
    "linprog(c, bounds=bounds)\n",
    "linprog(c, bounds=bounds)"
   ]
  }
 ],
 "metadata": {
  "kernelspec": {
   "display_name": ".venv",
   "language": "python",
   "name": "python3"
  },
  "language_info": {
   "codemirror_mode": {
    "name": "ipython",
    "version": 3
   },
   "file_extension": ".py",
   "mimetype": "text/x-python",
   "name": "python",
   "nbconvert_exporter": "python",
   "pygments_lexer": "ipython3",
   "version": "3.10.7"
  }
 },
 "nbformat": 4,
 "nbformat_minor": 2
}
